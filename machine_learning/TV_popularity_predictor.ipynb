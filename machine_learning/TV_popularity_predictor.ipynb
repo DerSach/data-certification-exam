{
 "cells": [
  {
   "cell_type": "markdown",
   "metadata": {},
   "source": [
    "# TV shows Popularity Predictor (39%)\n",
    "\n",
    "The goal of this challenge is to create a model that predicts the `popularity` of a movie or TV show\n",
    "\n",
    "<img src=\"image.jpg\" width=300 />\n",
    "\n",
    "\n",
    "\n",
    "\n",
    "The dataset contains a list of movies and TV shows with the following characteristics:\n",
    "- `title`: title of the movie in english\n",
    "- `original_title`: original title of the movie \n",
    "- `duration_min`: duration of the movie in minutes\n",
    "- `popularity`: popularity of the movie in terms of review scores\n",
    "- `release_date`: release date\n",
    "- `description`: short summary of the movie\n",
    "- `budget`: budget spent to produce the movie in USD\n",
    "- `revenue`: movie revenue in USD \n",
    "- `original_language`: original language \n",
    "- `status`: is the movie already released or not\n",
    "- `number_of_awards_won`: number of awards won for the movie\n",
    "- `number_of_nominations`: number of nominations\n",
    "- `has_collection`: if the movie is part of a sequel or not\n",
    "- `all_genres`: genres that described the movie (can be zero, one or many!) \n",
    "- `top_countries`: countries where the movie was produced (can be zero, one or many!) \n",
    "- `number_of_top_productions`: number of top production companies that produced the film if any. \n",
    "Top production companies includes: Warner Bros, Universal Pictures, Paramount Pictures, Canal+, etc...\n",
    "- `available_in_english`: whether the movie is available in english or not"
   ]
  },
  {
   "cell_type": "markdown",
   "metadata": {},
   "source": [
    "## Imports\n",
    "\n",
    "Run the following cell to load the basic packages:"
   ]
  },
  {
   "cell_type": "code",
   "execution_count": 1,
   "metadata": {
    "ExecuteTime": {
     "end_time": "2021-06-29T17:29:05.325249Z",
     "start_time": "2021-06-29T17:29:04.415422Z"
    }
   },
   "outputs": [],
   "source": [
    "import numpy as np\n",
    "import pandas as pd\n",
    "import matplotlib.pyplot as plt\n",
    "import seaborn as sns\n",
    "from nbresult import ChallengeResult"
   ]
  },
  {
   "cell_type": "markdown",
   "metadata": {},
   "source": [
    "## Data collection\n",
    "\n",
    "📝 **Load the `movie_popularity.csv` dataset from the provided this [URL](https://wagon-public-datasets.s3.amazonaws.com/certification_france_2021_q2/tv_movies_popularity.csv)**\n",
    "- First, check and remove the rows that may be complete duplicate from one another (we never know!)\n",
    "- Then, drop the columns that have too much missing values\n",
    "- Finally, drop the few remaining rows that have missing values\n",
    "- Store the result in a `DataFrame` named `data`"
   ]
  },
  {
   "cell_type": "code",
   "execution_count": 2,
   "metadata": {
    "ExecuteTime": {
     "end_time": "2021-06-29T17:29:09.664618Z",
     "start_time": "2021-06-29T17:29:05.328223Z"
    },
    "slideshow": {
     "slide_type": "notes"
    },
    "tags": [
     "challengify"
    ]
   },
   "outputs": [],
   "source": [
    "data = pd.read_csv('https://wagon-public-datasets.s3.amazonaws.com/certification_france_2021_q2/tv_movies_popularity.csv')"
   ]
  },
  {
   "cell_type": "code",
   "execution_count": 3,
   "metadata": {},
   "outputs": [
    {
     "data": {
      "text/plain": [
       "400"
      ]
     },
     "execution_count": 3,
     "metadata": {},
     "output_type": "execute_result"
    }
   ],
   "source": [
    "len(data) - len(data.drop_duplicates())"
   ]
  },
  {
   "cell_type": "code",
   "execution_count": 4,
   "metadata": {},
   "outputs": [],
   "source": [
    "data = data.drop_duplicates()"
   ]
  },
  {
   "cell_type": "code",
   "execution_count": 5,
   "metadata": {},
   "outputs": [
    {
     "data": {
      "text/plain": [
       "(6464, 17)"
      ]
     },
     "execution_count": 5,
     "metadata": {},
     "output_type": "execute_result"
    }
   ],
   "source": [
    "data.shape"
   ]
  },
  {
   "cell_type": "code",
   "execution_count": 6,
   "metadata": {},
   "outputs": [
    {
     "name": "stdout",
     "output_type": "stream",
     "text": [
      "<class 'pandas.core.frame.DataFrame'>\n",
      "Int64Index: 6464 entries, 0 to 6463\n",
      "Data columns (total 17 columns):\n",
      " #   Column                     Non-Null Count  Dtype  \n",
      "---  ------                     --------------  -----  \n",
      " 0   original_title             6464 non-null   object \n",
      " 1   title                      6463 non-null   object \n",
      " 2   popularity                 6464 non-null   float64\n",
      " 3   release_date               6464 non-null   object \n",
      " 4   duration_min               6464 non-null   float64\n",
      " 5   description                6464 non-null   object \n",
      " 6   budget                     6464 non-null   int64  \n",
      " 7   revenue                    2617 non-null   float64\n",
      " 8   original_language          6464 non-null   object \n",
      " 9   status                     6464 non-null   object \n",
      " 10  number_of_awards_won       6464 non-null   int64  \n",
      " 11  number_of_nominations      6464 non-null   int64  \n",
      " 12  has_collection             6464 non-null   int64  \n",
      " 13  all_genres                 6464 non-null   object \n",
      " 14  top_countries              6464 non-null   object \n",
      " 15  number_of_top_productions  6464 non-null   int64  \n",
      " 16  available_in_english       6464 non-null   bool   \n",
      "dtypes: bool(1), float64(3), int64(5), object(8)\n",
      "memory usage: 864.8+ KB\n"
     ]
    }
   ],
   "source": [
    "data.info()"
   ]
  },
  {
   "cell_type": "code",
   "execution_count": 7,
   "metadata": {},
   "outputs": [
    {
     "name": "stdout",
     "output_type": "stream",
     "text": [
      "original_title\n",
      "Hercules                 3\n",
      "Anna Karenina            3\n",
      "King Kong                3\n",
      "The Omen                 2\n",
      "Prom Night               2\n",
      "                        ..\n",
      "Moonlight                1\n",
      "Johnny English Reborn    1\n",
      "Die Welle                1\n",
      "Hardcore Henry           1\n",
      "Attack the Block         1\n",
      "Name: original_title, Length: 6351, dtype: int64\n",
      "\n",
      "title\n",
      "Beauty and the Beast                      3\n",
      "Anna Karenina                             3\n",
      "King Kong                                 3\n",
      "Hercules                                  3\n",
      "Legend                                    2\n",
      "                                         ..\n",
      "Cruel Intentions                          1\n",
      "Super Troopers                            1\n",
      "Alvin and the Chipmunks: The Road Chip    1\n",
      "John Tucker Must Die                      1\n",
      "Attack the Block                          1\n",
      "Name: title, Length: 6337, dtype: int64\n",
      "\n",
      "popularity\n",
      "9.003792     2\n",
      "2.186683     1\n",
      "10.249520    1\n",
      "1.252367     1\n",
      "6.327193     1\n",
      "            ..\n",
      "3.462653     1\n",
      "6.499680     1\n",
      "9.887602     1\n",
      "10.246173    1\n",
      "6.924072     1\n",
      "Name: popularity, Length: 6463, dtype: int64\n",
      "\n",
      "release_date\n",
      "2014-12-25    7\n",
      "2009-01-16    7\n",
      "2008-12-25    7\n",
      "2011-09-09    7\n",
      "2014-09-10    6\n",
      "             ..\n",
      "1998-04-24    1\n",
      "1994-05-31    1\n",
      "1995-01-11    1\n",
      "2010-12-08    1\n",
      "2017-06-09    1\n",
      "Name: release_date, Length: 4321, dtype: int64\n",
      "\n",
      "duration_min\n",
      "100.0    207\n",
      "97.0     183\n",
      "95.0     175\n",
      "96.0     173\n",
      "105.0    172\n",
      "        ... \n",
      "200.0      1\n",
      "190.0      1\n",
      "194.0      1\n",
      "59.0       1\n",
      "224.0      1\n",
      "Name: duration_min, Length: 152, dtype: int64\n",
      "\n",
      "description\n",
      "The story of                                                                                                                                                                9\n",
      "The life of                                                                                                                                                                 3\n",
      "The relationship between                                                                                                                                                    2\n",
      "In 1947,                                                                                                                                                                    2\n",
      "The true story of                                                                                                                                                           2\n",
      "                                                                                                                                                                           ..\n",
      "A private detective hired to expose an adulterer finds himself caught up in a web of deceit, corruption, and murder.                                                        1\n",
      "After his wife is assaulted, a husband enlists the services of a vigilante group to help him settle the score. Then he discovers they want a 'favor' from him in return.    1\n",
      "A slobbering St. Bernard becomes the center of attention for a loving family, but must contend with a dog-napping veterinarian and his henchmen.                            1\n",
      "A mob enforcer's son witnesses a murder, forcing him and his father to take to the road, and his father down a path of redemption and revenge.                              1\n",
      "A drama based on the experiences of Agu, a child soldier fighting in the civil war of an unnamed African country.                                                           1\n",
      "Name: description, Length: 6450, dtype: int64\n",
      "\n",
      "budget\n",
      "0           1424\n",
      "20000000     184\n",
      "25000000     171\n",
      "15000000     169\n",
      "30000000     154\n",
      "            ... \n",
      "4180000        1\n",
      "2380000        1\n",
      "8376800        1\n",
      "99000000       1\n",
      "22700000       1\n",
      "Name: budget, Length: 636, dtype: int64\n",
      "\n",
      "revenue\n",
      "6000000.0      9\n",
      "12000000.0     8\n",
      "11000000.0     8\n",
      "10000000.0     6\n",
      "25000000.0     5\n",
      "              ..\n",
      "7338987.0      1\n",
      "1079726.0      1\n",
      "403170142.0    1\n",
      "25480490.0     1\n",
      "871368364.0    1\n",
      "Name: revenue, Length: 2508, dtype: int64\n",
      "\n",
      "original_language\n",
      "en    5658\n",
      "fr     165\n",
      "hi     114\n",
      "ja      81\n",
      "es      63\n",
      "it      45\n",
      "ru      39\n",
      "zh      38\n",
      "de      37\n",
      "ko      36\n",
      "cn      33\n",
      "ta      26\n",
      "da      17\n",
      "sv      14\n",
      "pt       9\n",
      "te       9\n",
      "ml       8\n",
      "tr       8\n",
      "nl       7\n",
      "ro       7\n",
      "th       5\n",
      "pl       5\n",
      "fa       5\n",
      "no       4\n",
      "hu       4\n",
      "bn       3\n",
      "el       3\n",
      "he       3\n",
      "sr       2\n",
      "fi       2\n",
      "id       2\n",
      "cs       2\n",
      "ka       1\n",
      "af       1\n",
      "xx       1\n",
      "ur       1\n",
      "kn       1\n",
      "is       1\n",
      "bm       1\n",
      "nb       1\n",
      "ca       1\n",
      "ar       1\n",
      "Name: original_language, dtype: int64\n",
      "\n",
      "status\n",
      "Released           6459\n",
      "Post Production       4\n",
      "Rumored               1\n",
      "Name: status, dtype: int64\n",
      "\n",
      "number_of_awards_won\n",
      "0      2053\n",
      "1      1068\n",
      "2       626\n",
      "3       447\n",
      "4       313\n",
      "       ... \n",
      "86        1\n",
      "90        1\n",
      "94        1\n",
      "110       1\n",
      "243       1\n",
      "Name: number_of_awards_won, Length: 124, dtype: int64\n",
      "\n",
      "number_of_nominations\n",
      "0      973\n",
      "1      755\n",
      "2      582\n",
      "3      497\n",
      "4      394\n",
      "      ... \n",
      "98       1\n",
      "78       1\n",
      "160      1\n",
      "168      1\n",
      "291      1\n",
      "Name: number_of_nominations, Length: 180, dtype: int64\n",
      "\n",
      "has_collection\n",
      "0    5073\n",
      "1    1391\n",
      "Name: has_collection, dtype: int64\n",
      "\n",
      "all_genres\n",
      "Drama                                                        529\n",
      "Comedy                                                       403\n",
      "Drama, Romance                                               277\n",
      "Comedy, Drama                                                262\n",
      "Comedy, Drama, Romance                                       259\n",
      "                                                            ... \n",
      "Adventure, Comedy, Family, Fantasy, Music, Romance             1\n",
      "Action, Adventure, Comedy, Crime, Drama                        1\n",
      "Action, Drama, Fantasy, Horror, Science Fiction, Thriller      1\n",
      "Action, Crime, Drama, Romance, Western                         1\n",
      "Animation, Fantasy, Mystery                                    1\n",
      "Name: all_genres, Length: 745, dtype: int64\n",
      "\n",
      "top_countries\n",
      "United States of America                                         3966\n",
      "United Kingdom, United States of America                          277\n",
      "United Kingdom                                                    186\n",
      "India                                                             162\n",
      "Germany, United States of America                                 133\n",
      "                                                                 ... \n",
      "Germany, Norway                                                     1\n",
      "Denmark, France, Germany, Italy, Netherlands, Sweden                1\n",
      "Czech Republic, France, South Korea, United States of America       1\n",
      "Germany, Spain, United Kingdom                                      1\n",
      "Belgium, Czech Republic, France                                     1\n",
      "Name: top_countries, Length: 320, dtype: int64\n",
      "\n",
      "number_of_top_productions\n",
      "1    3050\n",
      "0    2884\n",
      "2     457\n",
      "3      69\n",
      "4       4\n",
      "Name: number_of_top_productions, dtype: int64\n",
      "\n",
      "available_in_english\n",
      "True     5807\n",
      "False     657\n",
      "Name: available_in_english, dtype: int64\n",
      "\n"
     ]
    }
   ],
   "source": [
    "for col in data.columns:\n",
    "    print(col)\n",
    "    print(data[f'{col}'].value_counts())\n",
    "    print()"
   ]
  },
  {
   "cell_type": "code",
   "execution_count": 8,
   "metadata": {},
   "outputs": [
    {
     "name": "stdout",
     "output_type": "stream",
     "text": [
      "<class 'pandas.core.frame.DataFrame'>\n",
      "Int64Index: 6464 entries, 0 to 6463\n",
      "Data columns (total 16 columns):\n",
      " #   Column                     Non-Null Count  Dtype  \n",
      "---  ------                     --------------  -----  \n",
      " 0   original_title             6464 non-null   object \n",
      " 1   title                      6463 non-null   object \n",
      " 2   popularity                 6464 non-null   float64\n",
      " 3   release_date               6464 non-null   object \n",
      " 4   duration_min               6464 non-null   float64\n",
      " 5   description                6464 non-null   object \n",
      " 6   budget                     6464 non-null   int64  \n",
      " 7   original_language          6464 non-null   object \n",
      " 8   status                     6464 non-null   object \n",
      " 9   number_of_awards_won       6464 non-null   int64  \n",
      " 10  number_of_nominations      6464 non-null   int64  \n",
      " 11  has_collection             6464 non-null   int64  \n",
      " 12  all_genres                 6464 non-null   object \n",
      " 13  top_countries              6464 non-null   object \n",
      " 14  number_of_top_productions  6464 non-null   int64  \n",
      " 15  available_in_english       6464 non-null   bool   \n",
      "dtypes: bool(1), float64(2), int64(5), object(8)\n",
      "memory usage: 814.3+ KB\n"
     ]
    }
   ],
   "source": [
    "data.drop(columns = ['revenue'], inplace = True)\n",
    "data.info()"
   ]
  },
  {
   "cell_type": "code",
   "execution_count": 9,
   "metadata": {},
   "outputs": [],
   "source": [
    "data.dropna(subset = ['title'], inplace = True)"
   ]
  },
  {
   "cell_type": "markdown",
   "metadata": {},
   "source": [
    "### 🧪 Run the following cell to save your results"
   ]
  },
  {
   "cell_type": "code",
   "execution_count": 10,
   "metadata": {
    "ExecuteTime": {
     "end_time": "2021-06-29T17:29:09.754301Z",
     "start_time": "2021-06-29T17:29:09.746171Z"
    }
   },
   "outputs": [],
   "source": [
    "from nbresult import ChallengeResult\n",
    "\n",
    "result = ChallengeResult(\n",
    "    \"data_cleaning\",\n",
    "    columns=data.columns,\n",
    "    cleaning=sum(data.isnull().sum()),\n",
    "    shape=data.shape)\n",
    "result.write()"
   ]
  },
  {
   "cell_type": "markdown",
   "metadata": {},
   "source": [
    "## Baseline model"
   ]
  },
  {
   "cell_type": "markdown",
   "metadata": {},
   "source": [
    "### The metric"
   ]
  },
  {
   "cell_type": "markdown",
   "metadata": {},
   "source": [
    "📝 **We want to predict `popularity`: Start by plotting a histogram of the target to visualize it**"
   ]
  },
  {
   "cell_type": "markdown",
   "metadata": {},
   "source": [
    "📝 **Which sklearn's scoring [metric](https://scikit-learn.org/stable/modules/model_evaluation.html) should we use if we want it to:**\n",
    "\n",
    "- Be better when greater (i.e. metric_good_model > metric_bad_model)\n",
    "- Penalize **more** an error between 10 and 20 compared with an error between 110 and 120\n",
    "- Said otherwise, what matter should be the **relative error ratio**, more than the absolute error difference\n",
    "\n",
    "Hint: the histogram plotted above should give you some intuition about it\n",
    "\n",
    "👉 Store its exact [sklearn scoring name](https://scikit-learn.org/stable/modules/model_evaluation.html) as `string` in the variable `scoring` below.\n",
    "\n",
    "🚨 You must use this metric for the rest of the challenge"
   ]
  },
  {
   "cell_type": "code",
   "execution_count": 11,
   "metadata": {
    "ExecuteTime": {
     "end_time": "2021-06-29T17:29:13.047468Z",
     "start_time": "2021-06-29T17:29:13.045265Z"
    },
    "slideshow": {
     "slide_type": "notes"
    },
    "tags": [
     "challengify"
    ]
   },
   "outputs": [
    {
     "data": {
      "text/plain": [
       "<AxesSubplot:xlabel='popularity', ylabel='Count'>"
      ]
     },
     "execution_count": 11,
     "metadata": {},
     "output_type": "execute_result"
    },
    {
     "data": {
      "image/png": "[encoded data removed]",
      "text/plain": [
       "<Figure size 432x288 with 1 Axes>"
      ]
     },
     "metadata": {
      "needs_background": "light"
     },
     "output_type": "display_data"
    }
   ],
   "source": [
    "sns.histplot(data.popularity)"
   ]
  },
  {
   "cell_type": "markdown",
   "metadata": {},
   "source": [
    "<details>\n",
    "    <summary>💡 Hint</summary>\n",
    "It is around here!\n",
    "<img src=\"scores.jpg\" width=200 height=400 />\n",
    "</details>"
   ]
  },
  {
   "cell_type": "code",
   "execution_count": 12,
   "metadata": {},
   "outputs": [],
   "source": [
    "scoring = 'neg_mean_absolute_percentage_error'"
   ]
  },
  {
   "cell_type": "markdown",
   "metadata": {},
   "source": [
    "### X,y"
   ]
  },
  {
   "cell_type": "markdown",
   "metadata": {},
   "source": [
    "**📝 Define `X` as the features Dataframe (keep all features) and `y` as the target Series.**"
   ]
  },
  {
   "cell_type": "code",
   "execution_count": 13,
   "metadata": {
    "ExecuteTime": {
     "end_time": "2021-06-29T17:29:13.054580Z",
     "start_time": "2021-06-29T17:29:13.049865Z"
    },
    "tags": [
     "challengify"
    ]
   },
   "outputs": [],
   "source": [
    "X = data.drop(columns = 'popularity')\n",
    "y = data['popularity']"
   ]
  },
  {
   "cell_type": "markdown",
   "metadata": {},
   "source": [
    "### Basic pipeline"
   ]
  },
  {
   "cell_type": "markdown",
   "metadata": {},
   "source": [
    "📝 **Check unique values per features**"
   ]
  },
  {
   "cell_type": "code",
   "execution_count": 14,
   "metadata": {
    "ExecuteTime": {
     "end_time": "2021-06-29T17:29:13.074836Z",
     "start_time": "2021-06-29T17:29:13.062527Z"
    },
    "tags": [
     "challengify"
    ]
   },
   "outputs": [
    {
     "name": "stdout",
     "output_type": "stream",
     "text": [
      "Number of unique values per features\n",
      "\n",
      "original_title\n",
      "6350\n",
      "\n",
      "title\n",
      "6337\n",
      "\n",
      "release_date\n",
      "4320\n",
      "\n",
      "duration_min\n",
      "152\n",
      "\n",
      "description\n",
      "6449\n",
      "\n",
      "budget\n",
      "636\n",
      "\n",
      "original_language\n",
      "42\n",
      "\n",
      "status\n",
      "3\n",
      "\n",
      "number_of_awards_won\n",
      "124\n",
      "\n",
      "number_of_nominations\n",
      "180\n",
      "\n",
      "has_collection\n",
      "2\n",
      "\n",
      "all_genres\n",
      "745\n",
      "\n",
      "top_countries\n",
      "320\n",
      "\n",
      "number_of_top_productions\n",
      "5\n",
      "\n",
      "available_in_english\n",
      "2\n",
      "\n"
     ]
    }
   ],
   "source": [
    "print('Number of unique values per features')\n",
    "print()\n",
    "\n",
    "for col in X.columns:\n",
    "    print(col)\n",
    "    print(data[f'{col}'].nunique())\n",
    "    print()"
   ]
  },
  {
   "cell_type": "markdown",
   "metadata": {},
   "source": [
    "In this baseline, let's forget about the columns below that are difficult to process"
   ]
  },
  {
   "cell_type": "code",
   "execution_count": 15,
   "metadata": {
    "ExecuteTime": {
     "end_time": "2021-06-29T17:29:13.102327Z",
     "start_time": "2021-06-29T17:29:13.099066Z"
    }
   },
   "outputs": [],
   "source": [
    "text = ['description', 'original_title', 'title']\n",
    "dates = ['release_date'] "
   ]
  },
  {
   "cell_type": "markdown",
   "metadata": {},
   "source": [
    "We will simply scale the numerical features and one-hot-encode the categorical ones remaining\n",
    "\n",
    "📝 **Prepare 2 `list`s of features names as `str`**:\n",
    "- `numerical` which contains **only** numerical features\n",
    "- `categorical` which contains **only** categorical features (exept text and dates above)"
   ]
  },
  {
   "cell_type": "code",
   "execution_count": 16,
   "metadata": {
    "ExecuteTime": {
     "end_time": "2021-06-29T17:29:13.107916Z",
     "start_time": "2021-06-29T17:29:13.104876Z"
    },
    "tags": [
     "challengify"
    ]
   },
   "outputs": [],
   "source": [
    "X_base = X.drop(columns = text)\n",
    "X_base = X_base.drop(columns = dates)\n",
    "\n",
    "numerical = X_base.describe().columns\n",
    "categorical = X_base.select_dtypes(['object','bool']).columns"
   ]
  },
  {
   "cell_type": "code",
   "execution_count": 17,
   "metadata": {},
   "outputs": [
    {
     "data": {
      "text/plain": [
       "Index(['duration_min', 'budget', 'number_of_awards_won',\n",
       "       'number_of_nominations', 'has_collection', 'number_of_top_productions'],\n",
       "      dtype='object')"
      ]
     },
     "execution_count": 17,
     "metadata": {},
     "output_type": "execute_result"
    }
   ],
   "source": [
    "numerical"
   ]
  },
  {
   "cell_type": "code",
   "execution_count": 18,
   "metadata": {},
   "outputs": [
    {
     "data": {
      "text/html": [
       "<div>\n",
       "<style scoped>\n",
       "    .dataframe tbody tr th:only-of-type {\n",
       "        vertical-align: middle;\n",
       "    }\n",
       "\n",
       "    .dataframe tbody tr th {\n",
       "        vertical-align: top;\n",
       "    }\n",
       "\n",
       "    .dataframe thead th {\n",
       "        text-align: right;\n",
       "    }\n",
       "</style>\n",
       "<table border=\"1\" class=\"dataframe\">\n",
       "  <thead>\n",
       "    <tr style=\"text-align: right;\">\n",
       "      <th></th>\n",
       "      <th>duration_min</th>\n",
       "      <th>budget</th>\n",
       "      <th>original_language</th>\n",
       "      <th>status</th>\n",
       "      <th>number_of_awards_won</th>\n",
       "      <th>number_of_nominations</th>\n",
       "      <th>has_collection</th>\n",
       "      <th>all_genres</th>\n",
       "      <th>top_countries</th>\n",
       "      <th>number_of_top_productions</th>\n",
       "      <th>available_in_english</th>\n",
       "    </tr>\n",
       "  </thead>\n",
       "  <tbody>\n",
       "    <tr>\n",
       "      <th>0</th>\n",
       "      <td>93.0</td>\n",
       "      <td>14000000</td>\n",
       "      <td>en</td>\n",
       "      <td>Released</td>\n",
       "      <td>0</td>\n",
       "      <td>2</td>\n",
       "      <td>1</td>\n",
       "      <td>Comedy</td>\n",
       "      <td>United States of America</td>\n",
       "      <td>3</td>\n",
       "      <td>True</td>\n",
       "    </tr>\n",
       "    <tr>\n",
       "      <th>1</th>\n",
       "      <td>113.0</td>\n",
       "      <td>40000000</td>\n",
       "      <td>en</td>\n",
       "      <td>Released</td>\n",
       "      <td>1</td>\n",
       "      <td>2</td>\n",
       "      <td>1</td>\n",
       "      <td>Comedy, Drama, Family, Romance</td>\n",
       "      <td>United States of America</td>\n",
       "      <td>1</td>\n",
       "      <td>True</td>\n",
       "    </tr>\n",
       "    <tr>\n",
       "      <th>2</th>\n",
       "      <td>105.0</td>\n",
       "      <td>3300000</td>\n",
       "      <td>en</td>\n",
       "      <td>Released</td>\n",
       "      <td>97</td>\n",
       "      <td>145</td>\n",
       "      <td>0</td>\n",
       "      <td>Drama</td>\n",
       "      <td>United States of America</td>\n",
       "      <td>0</td>\n",
       "      <td>True</td>\n",
       "    </tr>\n",
       "    <tr>\n",
       "      <th>3</th>\n",
       "      <td>122.0</td>\n",
       "      <td>1200000</td>\n",
       "      <td>hi</td>\n",
       "      <td>Released</td>\n",
       "      <td>23</td>\n",
       "      <td>18</td>\n",
       "      <td>0</td>\n",
       "      <td>Drama, Thriller</td>\n",
       "      <td>India</td>\n",
       "      <td>0</td>\n",
       "      <td>True</td>\n",
       "    </tr>\n",
       "    <tr>\n",
       "      <th>4</th>\n",
       "      <td>92.0</td>\n",
       "      <td>14000000</td>\n",
       "      <td>en</td>\n",
       "      <td>Released</td>\n",
       "      <td>0</td>\n",
       "      <td>6</td>\n",
       "      <td>0</td>\n",
       "      <td>Horror, Thriller</td>\n",
       "      <td>Canada, United States of America</td>\n",
       "      <td>0</td>\n",
       "      <td>True</td>\n",
       "    </tr>\n",
       "  </tbody>\n",
       "</table>\n",
       "</div>"
      ],
      "text/plain": [
       "   duration_min    budget original_language    status  number_of_awards_won  \\\n",
       "0          93.0  14000000                en  Released                     0   \n",
       "1         113.0  40000000                en  Released                     1   \n",
       "2         105.0   3300000                en  Released                    97   \n",
       "3         122.0   1200000                hi  Released                    23   \n",
       "4          92.0  14000000                en  Released                     0   \n",
       "\n",
       "   number_of_nominations  has_collection                      all_genres  \\\n",
       "0                      2               1                          Comedy   \n",
       "1                      2               1  Comedy, Drama, Family, Romance   \n",
       "2                    145               0                           Drama   \n",
       "3                     18               0                 Drama, Thriller   \n",
       "4                      6               0                Horror, Thriller   \n",
       "\n",
       "                      top_countries  number_of_top_productions  \\\n",
       "0          United States of America                          3   \n",
       "1          United States of America                          1   \n",
       "2          United States of America                          0   \n",
       "3                             India                          0   \n",
       "4  Canada, United States of America                          0   \n",
       "\n",
       "   available_in_english  \n",
       "0                  True  \n",
       "1                  True  \n",
       "2                  True  \n",
       "3                  True  \n",
       "4                  True  "
      ]
     },
     "execution_count": 18,
     "metadata": {},
     "output_type": "execute_result"
    }
   ],
   "source": [
    "X_base.head()"
   ]
  },
  {
   "cell_type": "code",
   "execution_count": 19,
   "metadata": {},
   "outputs": [
    {
     "data": {
      "text/plain": [
       "Index(['original_language', 'status', 'all_genres', 'top_countries',\n",
       "       'available_in_english'],\n",
       "      dtype='object')"
      ]
     },
     "execution_count": 19,
     "metadata": {},
     "output_type": "execute_result"
    }
   ],
   "source": [
    "categorical"
   ]
  },
  {
   "cell_type": "markdown",
   "metadata": {},
   "source": [
    "### Pipelining\n",
    "\n",
    "You are going to build a basic pipeline made of a basic preprocessing and a trees-based model of your choice."
   ]
  },
  {
   "cell_type": "markdown",
   "metadata": {},
   "source": [
    "#### Preprocessing pipeline\n",
    "\n",
    "**📝 Create a basic preprocessing pipeline for the 2 types of features above:**\n",
    "- It should scale the `numerical` features\n",
    "- one-hot-encode the `categorical` and `boolean` features\n",
    "- drop the others\n",
    "- Store your pipeline in a `basic_preprocessing` variable"
   ]
  },
  {
   "cell_type": "code",
   "execution_count": 20,
   "metadata": {
    "ExecuteTime": {
     "end_time": "2021-06-29T17:29:13.475427Z",
     "start_time": "2021-06-29T17:29:13.109926Z"
    }
   },
   "outputs": [],
   "source": [
    "# Execute this cell to enable a nice display for your pipelines\n",
    "from sklearn import set_config; set_config(display='diagram')"
   ]
  },
  {
   "cell_type": "code",
   "execution_count": 21,
   "metadata": {
    "ExecuteTime": {
     "end_time": "2021-06-29T17:29:13.497003Z",
     "start_time": "2021-06-29T17:29:13.477748Z"
    },
    "tags": [
     "challengify"
    ]
   },
   "outputs": [
    {
     "data": {
      "image/png": "[encoded data removed]",
      "text/plain": [
       "<Figure size 1440x1008 with 6 Axes>"
      ]
     },
     "metadata": {
      "needs_background": "light"
     },
     "output_type": "display_data"
    }
   ],
   "source": [
    "fig, ((ax1,ax2,ax3),(ax4,ax5,ax6)) = plt.subplots(2,3, figsize = (20,14))\n",
    "\n",
    "for i, num_col in enumerate(numerical):\n",
    "    plt.subplot(2,3,i+1)\n",
    "    X_base[[f'{num_col}']].boxplot()"
   ]
  },
  {
   "cell_type": "code",
   "execution_count": 22,
   "metadata": {},
   "outputs": [
    {
     "data": {
      "image/png": "[encoded data removed]",
      "text/plain": [
       "<Figure size 1440x1008 with 6 Axes>"
      ]
     },
     "metadata": {
      "needs_background": "light"
     },
     "output_type": "display_data"
    }
   ],
   "source": [
    "fig, ((ax1,ax2,ax3),(ax4,ax5,ax6)) = plt.subplots(2,3, figsize = (20,14))\n",
    "\n",
    "for i, num_col in enumerate(numerical):\n",
    "    plt.subplot(2,3,i+1)\n",
    "    plt.hist(X_base[[f'{num_col}']])"
   ]
  },
  {
   "cell_type": "code",
   "execution_count": 23,
   "metadata": {},
   "outputs": [
    {
     "data": {
      "text/plain": [
       "\"Etant donné le nombre élevé d'outliers on va robust scaler\""
      ]
     },
     "execution_count": 23,
     "metadata": {},
     "output_type": "execute_result"
    }
   ],
   "source": [
    "'''Etant donné le nombre élevé d'outliers on va robust scaler'''"
   ]
  },
  {
   "cell_type": "code",
   "execution_count": 24,
   "metadata": {},
   "outputs": [],
   "source": [
    "from sklearn.compose import ColumnTransformer\n",
    "from sklearn.pipeline import Pipeline\n",
    "from sklearn.preprocessing import RobustScaler, OneHotEncoder\n",
    "\n",
    "basic_preprocessing = ColumnTransformer([\n",
    "    ('num_transf', RobustScaler(), numerical),\n",
    "    ('cat_transf', OneHotEncoder(sparse = False, handle_unknown='ignore'), categorical),\n",
    "], remainder = 'drop')"
   ]
  },
  {
   "cell_type": "markdown",
   "metadata": {},
   "source": [
    "**📝 Encode the features and store the result in the variable `X_basic_preprocessing`.**"
   ]
  },
  {
   "cell_type": "code",
   "execution_count": 25,
   "metadata": {
    "ExecuteTime": {
     "end_time": "2021-06-29T17:29:13.523938Z",
     "start_time": "2021-06-29T17:29:13.499042Z"
    },
    "tags": [
     "challengify"
    ]
   },
   "outputs": [],
   "source": [
    "X_basic_preprocessing = basic_preprocessing.fit_transform(X_base)"
   ]
  },
  {
   "cell_type": "code",
   "execution_count": 26,
   "metadata": {},
   "outputs": [
    {
     "data": {
      "text/plain": [
       "(6463, 1118)"
      ]
     },
     "execution_count": 26,
     "metadata": {},
     "output_type": "execute_result"
    }
   ],
   "source": [
    "X_basic_preprocessing.shape"
   ]
  },
  {
   "cell_type": "code",
   "execution_count": 27,
   "metadata": {},
   "outputs": [
    {
     "data": {
      "text/plain": [
       "(6463, 11)"
      ]
     },
     "execution_count": 27,
     "metadata": {},
     "output_type": "execute_result"
    }
   ],
   "source": [
    "X_base.shape"
   ]
  },
  {
   "cell_type": "markdown",
   "metadata": {},
   "source": [
    "**❓ How many features has been generated by the preprocessing? What do you think about this number?**"
   ]
  },
  {
   "cell_type": "markdown",
   "metadata": {
    "tags": [
     "challengify"
    ]
   },
   "source": [
    "The preprocessing has generated 1107 features due to the one-hot encoding of the categorical features, some of them having a very high cardinality ('all_genres' 745 and 'top_countries' 320 for instance).\n",
    "This number is too high for our algorithms has you need approximately 10 rows to learn one new feature, and we only have 6K rows."
   ]
  },
  {
   "cell_type": "markdown",
   "metadata": {},
   "source": [
    "#### Modeling pipeline\n",
    "\n",
    "Let's add a model to our pipe. With so many features one-hot-encoded, we **need a model which can act as a feature selector**\n",
    "\n",
    "👉 A linear model regularized with L1 penalty is a good starting point.\n",
    "\n",
    "\n",
    "**📝 Create a `basic_pipeline` which encapsulate the `basic_preprocessing` pipeline + a linear model with a L1 penalty**\n",
    "\n",
    "- store the resulting pipeline as `basic_pipeline`\n",
    "- don't fine-tune it\n",
    "\n",
    "\n",
    "<details>\n",
    "    <summary>Hints</summary>\n",
    "\n",
    "Choose your model from the list [here](https://scikit-learn.org/stable/modules/classes.html#module-sklearn.linear_model)\n",
    "\n",
    "</details>"
   ]
  },
  {
   "cell_type": "code",
   "execution_count": 28,
   "metadata": {
    "ExecuteTime": {
     "end_time": "2021-06-29T17:29:13.614429Z",
     "start_time": "2021-06-29T17:29:13.609607Z"
    },
    "tags": [
     "challengify"
    ]
   },
   "outputs": [],
   "source": [
    "from sklearn.linear_model import Lasso\n",
    "\n",
    "basic_pipeline = Pipeline([\n",
    "    ('preproc', basic_preprocessing),\n",
    "    ('model', Lasso())\n",
    "])"
   ]
  },
  {
   "cell_type": "markdown",
   "metadata": {},
   "source": [
    "### Cross-validated baseline\n",
    "\n",
    "**📝 Perform a cross-validated evaluation of your baseline model using the metric you defined above. Store the results of this evaluation as an `array` of floating scores in the `basic_scores` variable.**"
   ]
  },
  {
   "cell_type": "code",
   "execution_count": 29,
   "metadata": {
    "ExecuteTime": {
     "end_time": "2021-06-29T17:29:13.834847Z",
     "start_time": "2021-06-29T17:29:13.634994Z"
    },
    "scrolled": false,
    "tags": [
     "challengify"
    ]
   },
   "outputs": [],
   "source": [
    "from sklearn.model_selection import cross_validate\n",
    "\n",
    "cv_results = cross_validate(basic_pipeline, X_base, y, scoring = scoring, cv = 5)"
   ]
  },
  {
   "cell_type": "code",
   "execution_count": 30,
   "metadata": {},
   "outputs": [
    {
     "data": {
      "text/plain": [
       "array([-0.83501648, -0.96666569, -0.91112822, -0.90045368, -0.90539316])"
      ]
     },
     "execution_count": 30,
     "metadata": {},
     "output_type": "execute_result"
    }
   ],
   "source": [
    "basic_scores = cv_results['test_score']\n",
    "basic_scores"
   ]
  },
  {
   "cell_type": "markdown",
   "metadata": {},
   "source": [
    "### 🧪 Save your results\n",
    "\n",
    "Run the following cell to save your results"
   ]
  },
  {
   "cell_type": "code",
   "execution_count": 31,
   "metadata": {
    "ExecuteTime": {
     "end_time": "2021-06-29T17:29:13.848670Z",
     "start_time": "2021-06-29T17:29:13.844198Z"
    }
   },
   "outputs": [],
   "source": [
    "ChallengeResult(\n",
    "    'baseline',\n",
    "    metric=scoring,\n",
    "    features=[categorical,numerical],\n",
    "    preproc=basic_preprocessing,\n",
    "    preproc_shape=X_basic_preprocessing.shape,\n",
    "    pipe=basic_pipeline,\n",
    "    scores=basic_scores\n",
    ").write()"
   ]
  },
  {
   "cell_type": "markdown",
   "metadata": {},
   "source": [
    "## Feature engineering"
   ]
  },
  {
   "cell_type": "markdown",
   "metadata": {},
   "source": [
    "### Time Features\n",
    "\n",
    "\n",
    "👉 Let's try to improve performance using the feature `release_date`, and especially its `month` and `year`.\n",
    "\n",
    "ℹ️ If you want to skip this section, you can move directly to the next one: _Advanced categorical features_."
   ]
  },
  {
   "cell_type": "markdown",
   "metadata": {},
   "source": [
    "**📝 Complete the custom transformer `TimeFeaturesExtractor` below**\n",
    "\n",
    "Running\n",
    "```python\n",
    "TimeFeaturesExtractor().fit_transform(X[['release_date']])\n",
    "``` \n",
    "should return something like\n",
    "\n",
    "|    |   month |   year |\n",
    "|---:|--------:|-------:|\n",
    "|  0 |       2 |   2015 |\n",
    "|  1 |       8 |   2004 |\n",
    "|  2 |      10 |   2014 |\n",
    "|  3 |       3 |   2012 |\n",
    "|  4 |       8 |   2012 |\n"
   ]
  },
  {
   "cell_type": "code",
   "execution_count": 32,
   "metadata": {},
   "outputs": [
    {
     "data": {
      "text/html": [
       "<div>\n",
       "<style scoped>\n",
       "    .dataframe tbody tr th:only-of-type {\n",
       "        vertical-align: middle;\n",
       "    }\n",
       "\n",
       "    .dataframe tbody tr th {\n",
       "        vertical-align: top;\n",
       "    }\n",
       "\n",
       "    .dataframe thead th {\n",
       "        text-align: right;\n",
       "    }\n",
       "</style>\n",
       "<table border=\"1\" class=\"dataframe\">\n",
       "  <thead>\n",
       "    <tr style=\"text-align: right;\">\n",
       "      <th></th>\n",
       "      <th>month</th>\n",
       "      <th>year</th>\n",
       "    </tr>\n",
       "  </thead>\n",
       "  <tbody>\n",
       "    <tr>\n",
       "      <th>0</th>\n",
       "      <td>2</td>\n",
       "      <td>2015</td>\n",
       "    </tr>\n",
       "    <tr>\n",
       "      <th>1</th>\n",
       "      <td>8</td>\n",
       "      <td>2004</td>\n",
       "    </tr>\n",
       "    <tr>\n",
       "      <th>2</th>\n",
       "      <td>10</td>\n",
       "      <td>2014</td>\n",
       "    </tr>\n",
       "    <tr>\n",
       "      <th>3</th>\n",
       "      <td>3</td>\n",
       "      <td>2012</td>\n",
       "    </tr>\n",
       "    <tr>\n",
       "      <th>4</th>\n",
       "      <td>8</td>\n",
       "      <td>2012</td>\n",
       "    </tr>\n",
       "    <tr>\n",
       "      <th>...</th>\n",
       "      <td>...</td>\n",
       "      <td>...</td>\n",
       "    </tr>\n",
       "    <tr>\n",
       "      <th>6459</th>\n",
       "      <td>8</td>\n",
       "      <td>2001</td>\n",
       "    </tr>\n",
       "    <tr>\n",
       "      <th>6460</th>\n",
       "      <td>8</td>\n",
       "      <td>2004</td>\n",
       "    </tr>\n",
       "    <tr>\n",
       "      <th>6461</th>\n",
       "      <td>12</td>\n",
       "      <td>1982</td>\n",
       "    </tr>\n",
       "    <tr>\n",
       "      <th>6462</th>\n",
       "      <td>2</td>\n",
       "      <td>2015</td>\n",
       "    </tr>\n",
       "    <tr>\n",
       "      <th>6463</th>\n",
       "      <td>9</td>\n",
       "      <td>1962</td>\n",
       "    </tr>\n",
       "  </tbody>\n",
       "</table>\n",
       "<p>6463 rows × 2 columns</p>\n",
       "</div>"
      ],
      "text/plain": [
       "      month  year\n",
       "0         2  2015\n",
       "1         8  2004\n",
       "2        10  2014\n",
       "3         3  2012\n",
       "4         8  2012\n",
       "...     ...   ...\n",
       "6459      8  2001\n",
       "6460      8  2004\n",
       "6461     12  1982\n",
       "6462      2  2015\n",
       "6463      9  1962\n",
       "\n",
       "[6463 rows x 2 columns]"
      ]
     },
     "execution_count": 32,
     "metadata": {},
     "output_type": "execute_result"
    }
   ],
   "source": [
    "dateee = pd.to_datetime(X[['release_date']].squeeze())\n",
    "\n",
    "month = dateee.dt.month\n",
    "year = dateee.dt.year\n",
    "\n",
    "dico = {'month' : month, 'year' : year}\n",
    "\n",
    "pd.DataFrame(dico)"
   ]
  },
  {
   "cell_type": "code",
   "execution_count": 33,
   "metadata": {
    "ExecuteTime": {
     "end_time": "2021-06-29T17:29:13.859554Z",
     "start_time": "2021-06-29T17:29:13.855428Z"
    }
   },
   "outputs": [],
   "source": [
    "from sklearn.base import BaseEstimator, TransformerMixin\n",
    "\n",
    "class TimeFeaturesExtractor(BaseEstimator, TransformerMixin):\n",
    "    \"\"\"Extract the 2 time features from a date\"\"\"\n",
    "    \n",
    "    def fit(self, X, y=None):\n",
    "        return self\n",
    "    \n",
    "    def transform(self, X, y=None):\n",
    "        \"\"\"\n",
    "        Params:\n",
    "        X: DataFrame\n",
    "        y: Series\n",
    "        \n",
    "        Returns a DataFrame with 2 columns containing the time features as integers extracted from the release_date.\n",
    "        \"\"\"\n",
    "        self.date = pd.to_datetime(X.squeeze())\n",
    "        self.month = self.date.dt.month\n",
    "        self.year = self.date.dt.year\n",
    "        self.dico = {'month' : self.month, 'year' : self.year}\n",
    "        self.date_df = pd.DataFrame(self.dico)\n",
    "        \n",
    "        return self.date_df"
   ]
  },
  {
   "cell_type": "code",
   "execution_count": 34,
   "metadata": {
    "ExecuteTime": {
     "end_time": "2021-06-29T17:29:13.877264Z",
     "start_time": "2021-06-29T17:29:13.862231Z"
    }
   },
   "outputs": [
    {
     "data": {
      "text/html": [
       "<div>\n",
       "<style scoped>\n",
       "    .dataframe tbody tr th:only-of-type {\n",
       "        vertical-align: middle;\n",
       "    }\n",
       "\n",
       "    .dataframe tbody tr th {\n",
       "        vertical-align: top;\n",
       "    }\n",
       "\n",
       "    .dataframe thead th {\n",
       "        text-align: right;\n",
       "    }\n",
       "</style>\n",
       "<table border=\"1\" class=\"dataframe\">\n",
       "  <thead>\n",
       "    <tr style=\"text-align: right;\">\n",
       "      <th></th>\n",
       "      <th>month</th>\n",
       "      <th>year</th>\n",
       "    </tr>\n",
       "  </thead>\n",
       "  <tbody>\n",
       "    <tr>\n",
       "      <th>0</th>\n",
       "      <td>2</td>\n",
       "      <td>2015</td>\n",
       "    </tr>\n",
       "    <tr>\n",
       "      <th>1</th>\n",
       "      <td>8</td>\n",
       "      <td>2004</td>\n",
       "    </tr>\n",
       "    <tr>\n",
       "      <th>2</th>\n",
       "      <td>10</td>\n",
       "      <td>2014</td>\n",
       "    </tr>\n",
       "    <tr>\n",
       "      <th>3</th>\n",
       "      <td>3</td>\n",
       "      <td>2012</td>\n",
       "    </tr>\n",
       "    <tr>\n",
       "      <th>4</th>\n",
       "      <td>8</td>\n",
       "      <td>2012</td>\n",
       "    </tr>\n",
       "  </tbody>\n",
       "</table>\n",
       "</div>"
      ],
      "text/plain": [
       "   month  year\n",
       "0      2  2015\n",
       "1      8  2004\n",
       "2     10  2014\n",
       "3      3  2012\n",
       "4      8  2012"
      ]
     },
     "execution_count": 34,
     "metadata": {},
     "output_type": "execute_result"
    }
   ],
   "source": [
    "# Try your transformer and save your new features here\n",
    "X_time_features = TimeFeaturesExtractor().fit_transform(X[['release_date']])\n",
    "X_time_features.head()"
   ]
  },
  {
   "cell_type": "markdown",
   "metadata": {},
   "source": [
    "We still have 2 problems to solve\n",
    "- `month` is cyclical: 12 should be a close to 1 as to 11, right? \n",
    "- `year` is not scaled\n",
    "\n",
    "**📝 Build a final custom transformer `CyclicalEncoder` so that**\n",
    "\n",
    "Running\n",
    "```python\n",
    "CyclicalEncoder().fit_transform(X_time_features)\n",
    "``` \n",
    "should return something like this\n",
    "\n",
    "|    |    month_cos |   month_sin |      year |\n",
    "|---:|-------------:|------------:|----------:|\n",
    "|  0 |  0.5         |    0.866025 | 0.0466039 |\n",
    "|  1 | -0.5         |   -0.866025 | 0.0411502 |\n",
    "|  2 |  0.5         |   -0.866025 | 0.0461081 |\n",
    "|  3 |  6.12323e-17 |    1        | 0.0451165 |\n",
    "|  4 | -0.5         |   -0.866025 | 0.0451165 |\n",
    "\n",
    "With the cyclical encoding is done as below\n",
    "- `month_cos = 2 * math.pi / 12 * X[['month']] `\n",
    "- `month_sin = 2 * math.pi / 12 * X[['month']] `\n",
    "\n",
    "And the `year` begin min-max scaled"
   ]
  },
  {
   "cell_type": "code",
   "execution_count": 35,
   "metadata": {
    "ExecuteTime": {
     "end_time": "2021-06-29T17:29:13.884690Z",
     "start_time": "2021-06-29T17:29:13.879274Z"
    }
   },
   "outputs": [],
   "source": [
    "from sklearn.base import BaseEstimator, TransformerMixin\n",
    "from sklearn.preprocessing import MinMaxScaler\n",
    "import math\n",
    "\n",
    "class CyclicalEncoder(BaseEstimator, TransformerMixin):\n",
    "    \"\"\"\n",
    "    Encode a cyclical feature\n",
    "    \"\"\"\n",
    "    \n",
    "#    def __init__(self):\n",
    "#        pass\n",
    "\n",
    "    def fit(self, X, y=None):\n",
    "        \"\"\"\n",
    "        Compute here what you need for the transform phase and store it as instance variable\n",
    "        \"\"\"\n",
    "        self.month = X.month\n",
    "        self.year = X.year\n",
    "        return self\n",
    "\n",
    "    def transform(self, X, y=None):\n",
    "        \"\"\"\n",
    "        Compute and returns the final DataFrame\n",
    "        \"\"\"\n",
    "        self.month_cos = np.cos(2 * math.pi / 12 * self.month)\n",
    "        self.month_sin = np.sin(2 * math.pi / 12 * self.month)\n",
    "        self.year_scaled = pd.Series(MinMaxScaler().fit_transform(X[['year']]).reshape(-1))\n",
    "        self.dico = {'month_cos' : self.month_cos, \n",
    "                     'month_sin' : self.month_sin, \n",
    "                     'year' : self.year_scaled}\n",
    "        self.date_df = pd.DataFrame(self.dico)\n",
    "        \n",
    "        return self.date_df"
   ]
  },
  {
   "cell_type": "code",
   "execution_count": 36,
   "metadata": {
    "ExecuteTime": {
     "end_time": "2021-06-29T17:29:13.899004Z",
     "start_time": "2021-06-29T17:29:13.886894Z"
    }
   },
   "outputs": [
    {
     "data": {
      "text/html": [
       "<div>\n",
       "<style scoped>\n",
       "    .dataframe tbody tr th:only-of-type {\n",
       "        vertical-align: middle;\n",
       "    }\n",
       "\n",
       "    .dataframe tbody tr th {\n",
       "        vertical-align: top;\n",
       "    }\n",
       "\n",
       "    .dataframe thead th {\n",
       "        text-align: right;\n",
       "    }\n",
       "</style>\n",
       "<table border=\"1\" class=\"dataframe\">\n",
       "  <thead>\n",
       "    <tr style=\"text-align: right;\">\n",
       "      <th></th>\n",
       "      <th>month_cos</th>\n",
       "      <th>month_sin</th>\n",
       "      <th>year</th>\n",
       "    </tr>\n",
       "  </thead>\n",
       "  <tbody>\n",
       "    <tr>\n",
       "      <th>0</th>\n",
       "      <td>5.000000e-01</td>\n",
       "      <td>0.866025</td>\n",
       "      <td>0.979167</td>\n",
       "    </tr>\n",
       "    <tr>\n",
       "      <th>1</th>\n",
       "      <td>-5.000000e-01</td>\n",
       "      <td>-0.866025</td>\n",
       "      <td>0.864583</td>\n",
       "    </tr>\n",
       "    <tr>\n",
       "      <th>2</th>\n",
       "      <td>5.000000e-01</td>\n",
       "      <td>-0.866025</td>\n",
       "      <td>0.968750</td>\n",
       "    </tr>\n",
       "    <tr>\n",
       "      <th>3</th>\n",
       "      <td>6.123234e-17</td>\n",
       "      <td>1.000000</td>\n",
       "      <td>0.947917</td>\n",
       "    </tr>\n",
       "    <tr>\n",
       "      <th>4</th>\n",
       "      <td>-5.000000e-01</td>\n",
       "      <td>-0.866025</td>\n",
       "      <td>0.947917</td>\n",
       "    </tr>\n",
       "  </tbody>\n",
       "</table>\n",
       "</div>"
      ],
      "text/plain": [
       "      month_cos  month_sin      year\n",
       "0  5.000000e-01   0.866025  0.979167\n",
       "1 -5.000000e-01  -0.866025  0.864583\n",
       "2  5.000000e-01  -0.866025  0.968750\n",
       "3  6.123234e-17   1.000000  0.947917\n",
       "4 -5.000000e-01  -0.866025  0.947917"
      ]
     },
     "execution_count": 36,
     "metadata": {},
     "output_type": "execute_result"
    }
   ],
   "source": [
    "# Try your transformer and save your new features here\n",
    "X_time_cyclical = CyclicalEncoder().fit_transform(X_time_features)\n",
    "X_time_cyclical.head()"
   ]
  },
  {
   "cell_type": "code",
   "execution_count": 37,
   "metadata": {
    "ExecuteTime": {
     "end_time": "2021-06-29T17:29:14.052971Z",
     "start_time": "2021-06-29T17:29:13.900696Z"
    }
   },
   "outputs": [
    {
     "data": {
      "image/png": "[encoded data removed]",
      "text/plain": [
       "<Figure size 432x288 with 1 Axes>"
      ]
     },
     "metadata": {
      "needs_background": "light"
     },
     "output_type": "display_data"
    }
   ],
   "source": [
    "# Check that this form a circle with 12 points\n",
    "plt.scatter(X_time_cyclical['month_cos'],\n",
    "            X_time_cyclical['month_sin'])\n",
    "plt.xlabel(\"month_cos\"); plt.ylabel(\"month_sin\");"
   ]
  },
  {
   "cell_type": "markdown",
   "metadata": {},
   "source": [
    "**📝 Enhance your `basic_pipeline` with a new preprocessing including both `TimeFeaturesExtractor` and `CyclicalFeatureExtractor`:**\n",
    "\n",
    "- Just use `TimeFeatureExtractor` if you haven't had time to do the `Cyclical` one\n",
    "- Store this new pipeline as `time_pipeline`\n",
    "- Keep same estimator for now"
   ]
  },
  {
   "cell_type": "code",
   "execution_count": 38,
   "metadata": {
    "ExecuteTime": {
     "end_time": "2021-06-29T17:29:14.077345Z",
     "start_time": "2021-06-29T17:29:14.054521Z"
    },
    "tags": [
     "challengify"
    ]
   },
   "outputs": [],
   "source": [
    "time_pipeline = Pipeline([\n",
    "    ('timeft', TimeFeaturesExtractor()),\n",
    "#    ('cycl', CyclicalEncoder())\n",
    "])"
   ]
  },
  {
   "cell_type": "code",
   "execution_count": 39,
   "metadata": {},
   "outputs": [],
   "source": [
    "preprocessing = ColumnTransformer([\n",
    "    ('num_transf', RobustScaler(), numerical),\n",
    "    ('cat_transf', OneHotEncoder(sparse = False, handle_unknown='ignore'), categorical),\n",
    "    ('date_transf', time_pipeline, ['release_date'])\n",
    "], remainder = 'drop')\n",
    "\n",
    "basic_pipeline = Pipeline([\n",
    "    ('preproc', preprocessing),\n",
    "    ('model', Lasso())\n",
    "])"
   ]
  },
  {
   "cell_type": "markdown",
   "metadata": {},
   "source": [
    "### Advanced categorical encoder to reduce the number of features\n",
    "\n",
    "ℹ️ Most of it has already been coded for you and it shouldn't take long. Still if you want to skip it and move to the next section: _Model Tuning_"
   ]
  },
  {
   "cell_type": "markdown",
   "metadata": {},
   "source": [
    "👉 We need to reduce the number of features to one-hot-encode, which arise from the high cardinality of `all_genres` and `top_countries`"
   ]
  },
  {
   "cell_type": "code",
   "execution_count": 40,
   "metadata": {
    "ExecuteTime": {
     "end_time": "2021-06-29T17:29:14.191964Z",
     "start_time": "2021-06-29T17:29:14.184044Z"
    }
   },
   "outputs": [
    {
     "data": {
      "text/plain": [
       "all_genres       745\n",
       "top_countries    320\n",
       "dtype: int64"
      ]
     },
     "execution_count": 40,
     "metadata": {},
     "output_type": "execute_result"
    }
   ],
   "source": [
    "X[['all_genres', 'top_countries']].nunique()"
   ]
  },
  {
   "cell_type": "markdown",
   "metadata": {},
   "source": [
    "👇 Both share a common pattern: there can be more than 1 country and more than 1 genre per movie."
   ]
  },
  {
   "cell_type": "code",
   "execution_count": 41,
   "metadata": {
    "ExecuteTime": {
     "end_time": "2021-06-29T17:29:14.201275Z",
     "start_time": "2021-06-29T17:29:14.193459Z"
    }
   },
   "outputs": [
    {
     "data": {
      "text/html": [
       "<div>\n",
       "<style scoped>\n",
       "    .dataframe tbody tr th:only-of-type {\n",
       "        vertical-align: middle;\n",
       "    }\n",
       "\n",
       "    .dataframe tbody tr th {\n",
       "        vertical-align: top;\n",
       "    }\n",
       "\n",
       "    .dataframe thead th {\n",
       "        text-align: right;\n",
       "    }\n",
       "</style>\n",
       "<table border=\"1\" class=\"dataframe\">\n",
       "  <thead>\n",
       "    <tr style=\"text-align: right;\">\n",
       "      <th></th>\n",
       "      <th>all_genres</th>\n",
       "      <th>top_countries</th>\n",
       "    </tr>\n",
       "  </thead>\n",
       "  <tbody>\n",
       "    <tr>\n",
       "      <th>6459</th>\n",
       "      <td>Thriller</td>\n",
       "      <td>France, United States of America</td>\n",
       "    </tr>\n",
       "    <tr>\n",
       "      <th>6460</th>\n",
       "      <td>Action, Adventure, Comedy, Thriller</td>\n",
       "      <td>United States of America</td>\n",
       "    </tr>\n",
       "    <tr>\n",
       "      <th>6461</th>\n",
       "      <td>Drama</td>\n",
       "      <td>United States of America</td>\n",
       "    </tr>\n",
       "    <tr>\n",
       "      <th>6462</th>\n",
       "      <td>Horror, Thriller</td>\n",
       "      <td>United States of America</td>\n",
       "    </tr>\n",
       "    <tr>\n",
       "      <th>6463</th>\n",
       "      <td>Drama</td>\n",
       "      <td>France</td>\n",
       "    </tr>\n",
       "  </tbody>\n",
       "</table>\n",
       "</div>"
      ],
      "text/plain": [
       "                               all_genres                     top_countries\n",
       "6459                             Thriller  France, United States of America\n",
       "6460  Action, Adventure, Comedy, Thriller          United States of America\n",
       "6461                                Drama          United States of America\n",
       "6462                     Horror, Thriller          United States of America\n",
       "6463                                Drama                            France"
      ]
     },
     "execution_count": 41,
     "metadata": {},
     "output_type": "execute_result"
    }
   ],
   "source": [
    "X[['all_genres', 'top_countries']].tail()"
   ]
  },
  {
   "cell_type": "markdown",
   "metadata": {},
   "source": [
    "👉 Run the cell below where we have coded for you a custom transformer `CustomGenreAndCountryEncoder` which: \n",
    "- Select the 10 most frequent genres and the 5 most frequent countries\n",
    "- Encode `all_genres` into 10 One Hot Encoded features\n",
    "- Encode `top_countries` into 5 One Hot Encoded features"
   ]
  },
  {
   "cell_type": "code",
   "execution_count": 42,
   "metadata": {
    "ExecuteTime": {
     "end_time": "2021-06-29T17:29:14.210953Z",
     "start_time": "2021-06-29T17:29:14.202791Z"
    }
   },
   "outputs": [],
   "source": [
    "from collections import Counter\n",
    "from sklearn.base import BaseEstimator, TransformerMixin\n",
    "\n",
    "class CustomGenreAndCountryEncoder(BaseEstimator, TransformerMixin):\n",
    "    \"\"\"\n",
    "    Encoding the all_genres and top_companies features which are multi-categorical :\n",
    "    a movie has several possible genres and countries of productions!\n",
    "    \"\"\"\n",
    "\n",
    "    def __init__(self):\n",
    "        pass\n",
    "\n",
    "    def fit(self, X, y=None):\n",
    "        \"\"\"\n",
    "        compute top genres and top countries of productions from all_genres and top_countries features\n",
    "        \"\"\"\n",
    "\n",
    "        # compute top 10 genres       \n",
    "        list_of_genres = list(X['all_genres'].apply(lambda x: [i.strip() for i in x.split(\",\")] if x != [''] else []).values)\n",
    "        top_genres = [m[0] for m in Counter([i for j in list_of_genres for i in j]).most_common(10)]\n",
    "\n",
    "        # save top_genres in dedicated instance variable\n",
    "        self.top_genres = top_genres\n",
    "        \n",
    "         # compute top 5 countries       \n",
    "        list_of_countries = list(X['top_countries'].apply(lambda x: [i.strip() for i in x.split(\",\")] if x != [''] else []).values)\n",
    "        top_countries = [m[0] for m in Counter([i for j in list_of_countries for i in j]).most_common(5)]\n",
    "\n",
    "        # save top_countries in dedicated instance variable\n",
    "        self.top_countries = top_countries\n",
    "\n",
    "        return self\n",
    "\n",
    "    def transform(self, X, y=None):\n",
    "        \"\"\"\n",
    "        encoding genre and country\n",
    "        \"\"\"\n",
    "        X_new = X.copy()\n",
    "        for genre in self.top_genres:\n",
    "            X_new['genre_' + genre] = X_new['all_genres'].apply(lambda x: 1 if genre in x else 0)\n",
    "        X_new = X_new.drop(columns=[\"all_genres\"])\n",
    "        for country in self.top_countries:\n",
    "            X_new['country_' + country] = X_new['top_countries'].apply(lambda x: 1 if country in x else 0)\n",
    "        X_new = X_new.drop(columns=[\"top_countries\"])\n",
    "        return X_new"
   ]
  },
  {
   "cell_type": "code",
   "execution_count": 43,
   "metadata": {
    "ExecuteTime": {
     "end_time": "2021-06-29T17:29:14.289418Z",
     "start_time": "2021-06-29T17:29:14.212506Z"
    }
   },
   "outputs": [
    {
     "name": "stdout",
     "output_type": "stream",
     "text": [
      "(6463, 15)\n"
     ]
    },
    {
     "data": {
      "text/html": [
       "<div>\n",
       "<style scoped>\n",
       "    .dataframe tbody tr th:only-of-type {\n",
       "        vertical-align: middle;\n",
       "    }\n",
       "\n",
       "    .dataframe tbody tr th {\n",
       "        vertical-align: top;\n",
       "    }\n",
       "\n",
       "    .dataframe thead th {\n",
       "        text-align: right;\n",
       "    }\n",
       "</style>\n",
       "<table border=\"1\" class=\"dataframe\">\n",
       "  <thead>\n",
       "    <tr style=\"text-align: right;\">\n",
       "      <th></th>\n",
       "      <th>genre_Drama</th>\n",
       "      <th>genre_Comedy</th>\n",
       "      <th>genre_Thriller</th>\n",
       "      <th>genre_Action</th>\n",
       "      <th>genre_Romance</th>\n",
       "      <th>genre_Adventure</th>\n",
       "      <th>genre_Crime</th>\n",
       "      <th>genre_Science Fiction</th>\n",
       "      <th>genre_Horror</th>\n",
       "      <th>genre_Family</th>\n",
       "      <th>country_United States of America</th>\n",
       "      <th>country_United Kingdom</th>\n",
       "      <th>country_France</th>\n",
       "      <th>country_Germany</th>\n",
       "      <th>country_Canada</th>\n",
       "    </tr>\n",
       "  </thead>\n",
       "  <tbody>\n",
       "    <tr>\n",
       "      <th>0</th>\n",
       "      <td>0</td>\n",
       "      <td>1</td>\n",
       "      <td>0</td>\n",
       "      <td>0</td>\n",
       "      <td>0</td>\n",
       "      <td>0</td>\n",
       "      <td>0</td>\n",
       "      <td>0</td>\n",
       "      <td>0</td>\n",
       "      <td>0</td>\n",
       "      <td>1</td>\n",
       "      <td>0</td>\n",
       "      <td>0</td>\n",
       "      <td>0</td>\n",
       "      <td>0</td>\n",
       "    </tr>\n",
       "    <tr>\n",
       "      <th>1</th>\n",
       "      <td>1</td>\n",
       "      <td>1</td>\n",
       "      <td>0</td>\n",
       "      <td>0</td>\n",
       "      <td>1</td>\n",
       "      <td>0</td>\n",
       "      <td>0</td>\n",
       "      <td>0</td>\n",
       "      <td>0</td>\n",
       "      <td>1</td>\n",
       "      <td>1</td>\n",
       "      <td>0</td>\n",
       "      <td>0</td>\n",
       "      <td>0</td>\n",
       "      <td>0</td>\n",
       "    </tr>\n",
       "    <tr>\n",
       "      <th>2</th>\n",
       "      <td>1</td>\n",
       "      <td>0</td>\n",
       "      <td>0</td>\n",
       "      <td>0</td>\n",
       "      <td>0</td>\n",
       "      <td>0</td>\n",
       "      <td>0</td>\n",
       "      <td>0</td>\n",
       "      <td>0</td>\n",
       "      <td>0</td>\n",
       "      <td>1</td>\n",
       "      <td>0</td>\n",
       "      <td>0</td>\n",
       "      <td>0</td>\n",
       "      <td>0</td>\n",
       "    </tr>\n",
       "    <tr>\n",
       "      <th>3</th>\n",
       "      <td>1</td>\n",
       "      <td>0</td>\n",
       "      <td>1</td>\n",
       "      <td>0</td>\n",
       "      <td>0</td>\n",
       "      <td>0</td>\n",
       "      <td>0</td>\n",
       "      <td>0</td>\n",
       "      <td>0</td>\n",
       "      <td>0</td>\n",
       "      <td>0</td>\n",
       "      <td>0</td>\n",
       "      <td>0</td>\n",
       "      <td>0</td>\n",
       "      <td>0</td>\n",
       "    </tr>\n",
       "    <tr>\n",
       "      <th>4</th>\n",
       "      <td>0</td>\n",
       "      <td>0</td>\n",
       "      <td>1</td>\n",
       "      <td>0</td>\n",
       "      <td>0</td>\n",
       "      <td>0</td>\n",
       "      <td>0</td>\n",
       "      <td>0</td>\n",
       "      <td>1</td>\n",
       "      <td>0</td>\n",
       "      <td>1</td>\n",
       "      <td>0</td>\n",
       "      <td>0</td>\n",
       "      <td>0</td>\n",
       "      <td>1</td>\n",
       "    </tr>\n",
       "  </tbody>\n",
       "</table>\n",
       "</div>"
      ],
      "text/plain": [
       "   genre_Drama  genre_Comedy  genre_Thriller  genre_Action  genre_Romance  \\\n",
       "0            0             1               0             0              0   \n",
       "1            1             1               0             0              1   \n",
       "2            1             0               0             0              0   \n",
       "3            1             0               1             0              0   \n",
       "4            0             0               1             0              0   \n",
       "\n",
       "   genre_Adventure  genre_Crime  genre_Science Fiction  genre_Horror  \\\n",
       "0                0            0                      0             0   \n",
       "1                0            0                      0             0   \n",
       "2                0            0                      0             0   \n",
       "3                0            0                      0             0   \n",
       "4                0            0                      0             1   \n",
       "\n",
       "   genre_Family  country_United States of America  country_United Kingdom  \\\n",
       "0             0                                 1                       0   \n",
       "1             1                                 1                       0   \n",
       "2             0                                 1                       0   \n",
       "3             0                                 0                       0   \n",
       "4             0                                 1                       0   \n",
       "\n",
       "   country_France  country_Germany  country_Canada  \n",
       "0               0                0               0  \n",
       "1               0                0               0  \n",
       "2               0                0               0  \n",
       "3               0                0               0  \n",
       "4               0                0               1  "
      ]
     },
     "execution_count": 43,
     "metadata": {},
     "output_type": "execute_result"
    }
   ],
   "source": [
    "# Check it out\n",
    "X_custom = CustomGenreAndCountryEncoder().fit_transform(X[['all_genres', 'top_countries']])\n",
    "print(X_custom.shape)\n",
    "X_custom.head()"
   ]
  },
  {
   "cell_type": "markdown",
   "metadata": {},
   "source": [
    "**📝 Compute your `final_pipeline` by integrating all these transformers** (or all those you have coded)\n",
    "\n",
    "- `CustomGenreAndCountryEncoder`\n",
    "- `TimeFeaturesExtractor`\n",
    "- `CyclicalFeatureExtractor`"
   ]
  },
  {
   "cell_type": "code",
   "execution_count": 44,
   "metadata": {},
   "outputs": [
    {
     "data": {
      "text/plain": [
       "Index(['original_language', 'status', 'all_genres', 'top_countries',\n",
       "       'available_in_english'],\n",
       "      dtype='object')"
      ]
     },
     "execution_count": 44,
     "metadata": {},
     "output_type": "execute_result"
    }
   ],
   "source": [
    "categorical"
   ]
  },
  {
   "cell_type": "code",
   "execution_count": 45,
   "metadata": {},
   "outputs": [
    {
     "data": {
      "text/plain": [
       "Index(['original_title', 'title', 'release_date', 'duration_min',\n",
       "       'description', 'budget', 'original_language', 'status',\n",
       "       'number_of_awards_won', 'number_of_nominations', 'has_collection',\n",
       "       'all_genres', 'top_countries', 'number_of_top_productions',\n",
       "       'available_in_english'],\n",
       "      dtype='object')"
      ]
     },
     "execution_count": 45,
     "metadata": {},
     "output_type": "execute_result"
    }
   ],
   "source": [
    "X.columns"
   ]
  },
  {
   "cell_type": "code",
   "execution_count": 46,
   "metadata": {
    "ExecuteTime": {
     "end_time": "2021-06-29T17:29:14.316693Z",
     "start_time": "2021-06-29T17:29:14.291225Z"
    },
    "tags": [
     "challengify"
    ]
   },
   "outputs": [],
   "source": [
    "advanced_preproc = ColumnTransformer([\n",
    "    ('num_transf', RobustScaler(), numerical),\n",
    "    ('cat_transf', OneHotEncoder(sparse = False, handle_unknown='ignore'), ['original_language', 'status', 'available_in_english']),\n",
    "    ('date_transf', time_pipeline, ['release_date']),\n",
    "    ('customgandc_transf', CustomGenreAndCountryEncoder(), ['all_genres', 'top_countries'])\n",
    "], remainder = 'drop')\n",
    "\n",
    "final_pipeline = Pipeline([\n",
    "    ('adv_preproc', advanced_preproc),\n",
    "    ('model', Lasso())\n",
    "])"
   ]
  },
  {
   "cell_type": "markdown",
   "metadata": {},
   "source": [
    "📝 **Compute and store its cross validated scores as `final_scores` array of floats**\n",
    "\n",
    "- It does not necessarily improve the performance before we can try-out doing model tuning\n",
    "- However, with a now limited number of features, we will be able to train more complex models in next section (ensemble...)"
   ]
  },
  {
   "cell_type": "code",
   "execution_count": 47,
   "metadata": {},
   "outputs": [],
   "source": [
    "cv_results2 = cross_validate(final_pipeline, X, y, scoring = scoring, cv = 5)"
   ]
  },
  {
   "cell_type": "code",
   "execution_count": 48,
   "metadata": {},
   "outputs": [
    {
     "data": {
      "text/plain": [
       "array([-0.83879548, -0.96569499, -0.91900956, -0.89769635, -0.90092816])"
      ]
     },
     "execution_count": 48,
     "metadata": {},
     "output_type": "execute_result"
    }
   ],
   "source": [
    "final_scores = cv_results2['test_score']\n",
    "final_scores"
   ]
  },
  {
   "cell_type": "markdown",
   "metadata": {},
   "source": [
    "### 🧪 Save your result\n",
    "\n",
    "Run the following cell to save your results."
   ]
  },
  {
   "cell_type": "code",
   "execution_count": 49,
   "metadata": {
    "ExecuteTime": {
     "end_time": "2021-06-29T17:29:15.204479Z",
     "start_time": "2021-06-29T17:29:15.198198Z"
    }
   },
   "outputs": [],
   "source": [
    "ChallengeResult(\n",
    "    'feature_engineering',\n",
    "    X_time_features=X_time_features,\n",
    "    X_time_cyclical= X_time_cyclical,\n",
    "    time_pipeline=time_pipeline,\n",
    "    final_pipeline=final_pipeline,\n",
    "    final_scores=final_scores\n",
    ").write()\n",
    "\n",
    "# Hint: Try restarting your notebook if you obtain an error about saving a custom encoder"
   ]
  },
  {
   "cell_type": "markdown",
   "metadata": {},
   "source": [
    "## Model tuning"
   ]
  },
  {
   "cell_type": "markdown",
   "metadata": {},
   "source": [
    "### Random Forest"
   ]
  },
  {
   "cell_type": "markdown",
   "metadata": {},
   "source": [
    "📝 **Change the estimator of your `final_pipeline` by a Random Forest and checkout your new cross-validated score**"
   ]
  },
  {
   "cell_type": "code",
   "execution_count": 50,
   "metadata": {
    "ExecuteTime": {
     "end_time": "2021-06-29T17:29:19.391364Z",
     "start_time": "2021-06-29T17:29:15.206532Z"
    },
    "tags": [
     "challengify"
    ]
   },
   "outputs": [],
   "source": [
    "from sklearn.ensemble import RandomForestRegressor\n",
    "\n",
    "final_pipeline = Pipeline([\n",
    "    ('adv_preproc', advanced_preproc),\n",
    "    ('rf', RandomForestRegressor())\n",
    "])\n",
    "\n",
    "cv_results3 = cross_validate(final_pipeline, X, y, scoring = scoring, cv = 5)"
   ]
  },
  {
   "cell_type": "code",
   "execution_count": 51,
   "metadata": {},
   "outputs": [
    {
     "data": {
      "text/plain": [
       "{'fit_time': array([4.22351527, 5.24869895, 4.43346691, 4.12482405, 4.74778008]),\n",
       " 'score_time': array([0.07600784, 0.08018875, 0.07701135, 0.07448816, 0.07941318]),\n",
       " 'test_score': array([-0.69176316, -0.73412316, -0.68719197, -0.6869981 , -0.6857082 ])}"
      ]
     },
     "execution_count": 51,
     "metadata": {},
     "output_type": "execute_result"
    }
   ],
   "source": [
    "cv_results3"
   ]
  },
  {
   "cell_type": "markdown",
   "metadata": {},
   "source": [
    "### Best hyperparameters quest\n",
    "\n",
    "\n",
    "\n",
    "**📝 Fine tune your model to try to get the best performance in the minimum amount of time!**\n",
    "\n",
    "- Store the result of your search inside the `search` variable.\n",
    "- Store your 5 cross-validated scores inside `best_scores` array of floats"
   ]
  },
  {
   "cell_type": "code",
   "execution_count": 52,
   "metadata": {
    "ExecuteTime": {
     "end_time": "2021-06-29T17:29:19.431573Z",
     "start_time": "2021-06-29T17:29:19.394891Z"
    },
    "tags": [
     "challengify"
    ]
   },
   "outputs": [
    {
     "name": "stdout",
     "output_type": "stream",
     "text": [
      "Fitting 5 folds for each of 12 candidates, totalling 60 fits\n"
     ]
    },
    {
     "data": {
      "text/html": [
       "<style>#sk-eb4157dd-ed04-4901-ab51-6223f88a28d8 {color: black;background-color: white;}#sk-eb4157dd-ed04-4901-ab51-6223f88a28d8 pre{padding: 0;}#sk-eb4157dd-ed04-4901-ab51-6223f88a28d8 div.sk-toggleable {background-color: white;}#sk-eb4157dd-ed04-4901-ab51-6223f88a28d8 label.sk-toggleable__label {cursor: pointer;display: block;width: 100%;margin-bottom: 0;padding: 0.2em 0.3em;box-sizing: border-box;text-align: center;}#sk-eb4157dd-ed04-4901-ab51-6223f88a28d8 div.sk-toggleable__content {max-height: 0;max-width: 0;overflow: hidden;text-align: left;background-color: #f0f8ff;}#sk-eb4157dd-ed04-4901-ab51-6223f88a28d8 div.sk-toggleable__content pre {margin: 0.2em;color: black;border-radius: 0.25em;background-color: #f0f8ff;}#sk-eb4157dd-ed04-4901-ab51-6223f88a28d8 input.sk-toggleable__control:checked~div.sk-toggleable__content {max-height: 200px;max-width: 100%;overflow: auto;}#sk-eb4157dd-ed04-4901-ab51-6223f88a28d8 div.sk-estimator input.sk-toggleable__control:checked~label.sk-toggleable__label {background-color: #d4ebff;}#sk-eb4157dd-ed04-4901-ab51-6223f88a28d8 div.sk-label input.sk-toggleable__control:checked~label.sk-toggleable__label {background-color: #d4ebff;}#sk-eb4157dd-ed04-4901-ab51-6223f88a28d8 input.sk-hidden--visually {border: 0;clip: rect(1px 1px 1px 1px);clip: rect(1px, 1px, 1px, 1px);height: 1px;margin: -1px;overflow: hidden;padding: 0;position: absolute;width: 1px;}#sk-eb4157dd-ed04-4901-ab51-6223f88a28d8 div.sk-estimator {font-family: monospace;background-color: #f0f8ff;margin: 0.25em 0.25em;border: 1px dotted black;border-radius: 0.25em;box-sizing: border-box;}#sk-eb4157dd-ed04-4901-ab51-6223f88a28d8 div.sk-estimator:hover {background-color: #d4ebff;}#sk-eb4157dd-ed04-4901-ab51-6223f88a28d8 div.sk-parallel-item::after {content: \"\";width: 100%;border-bottom: 1px solid gray;flex-grow: 1;}#sk-eb4157dd-ed04-4901-ab51-6223f88a28d8 div.sk-label:hover label.sk-toggleable__label {background-color: #d4ebff;}#sk-eb4157dd-ed04-4901-ab51-6223f88a28d8 div.sk-serial::before {content: \"\";position: absolute;border-left: 1px solid gray;box-sizing: border-box;top: 2em;bottom: 0;left: 50%;}#sk-eb4157dd-ed04-4901-ab51-6223f88a28d8 div.sk-serial {display: flex;flex-direction: column;align-items: center;background-color: white;}#sk-eb4157dd-ed04-4901-ab51-6223f88a28d8 div.sk-item {z-index: 1;}#sk-eb4157dd-ed04-4901-ab51-6223f88a28d8 div.sk-parallel {display: flex;align-items: stretch;justify-content: center;background-color: white;}#sk-eb4157dd-ed04-4901-ab51-6223f88a28d8 div.sk-parallel-item {display: flex;flex-direction: column;position: relative;background-color: white;}#sk-eb4157dd-ed04-4901-ab51-6223f88a28d8 div.sk-parallel-item:first-child::after {align-self: flex-end;width: 50%;}#sk-eb4157dd-ed04-4901-ab51-6223f88a28d8 div.sk-parallel-item:last-child::after {align-self: flex-start;width: 50%;}#sk-eb4157dd-ed04-4901-ab51-6223f88a28d8 div.sk-parallel-item:only-child::after {width: 0;}#sk-eb4157dd-ed04-4901-ab51-6223f88a28d8 div.sk-dashed-wrapped {border: 1px dashed gray;margin: 0.2em;box-sizing: border-box;padding-bottom: 0.1em;background-color: white;position: relative;}#sk-eb4157dd-ed04-4901-ab51-6223f88a28d8 div.sk-label label {font-family: monospace;font-weight: bold;background-color: white;display: inline-block;line-height: 1.2em;}#sk-eb4157dd-ed04-4901-ab51-6223f88a28d8 div.sk-label-container {position: relative;z-index: 2;text-align: center;}#sk-eb4157dd-ed04-4901-ab51-6223f88a28d8 div.sk-container {display: inline-block;position: relative;}</style><div id=\"sk-eb4157dd-ed04-4901-ab51-6223f88a28d8\" class\"sk-top-container\"><div class=\"sk-container\"><div class=\"sk-item sk-dashed-wrapped\"><div class=\"sk-label-container\"><div class=\"sk-label sk-toggleable\"><input class=\"sk-toggleable__control sk-hidden--visually\" id=\"a7b9104a-d843-44fb-85cf-0f7d75d7144f\" type=\"checkbox\" ><label class=\"sk-toggleable__label\" for=\"a7b9104a-d843-44fb-85cf-0f7d75d7144f\">GridSearchCV</label><div class=\"sk-toggleable__content\"><pre>GridSearchCV(cv=5,\n",
       "             estimator=Pipeline(steps=[('adv_preproc',\n",
       "                                        ColumnTransformer(transformers=[('num_transf',\n",
       "                                                                         RobustScaler(),\n",
       "                                                                         Index(['duration_min', 'budget', 'number_of_awards_won',\n",
       "       'number_of_nominations', 'has_collection', 'number_of_top_productions'],\n",
       "      dtype='object')),\n",
       "                                                                        ('cat_transf',\n",
       "                                                                         OneHotEncoder(handle_unknown='ignore',\n",
       "                                                                                       sparse=False),\n",
       "                                                                         ['original_language',\n",
       "                                                                          's...\n",
       "                                                                         Pipeline(steps=[('timeft',\n",
       "                                                                                          TimeFeaturesExtractor())]),\n",
       "                                                                         ['release_date']),\n",
       "                                                                        ('customgandc_transf',\n",
       "                                                                         CustomGenreAndCountryEncoder(),\n",
       "                                                                         ['all_genres',\n",
       "                                                                          'top_countries'])])),\n",
       "                                       ('rf', RandomForestRegressor())]),\n",
       "             n_jobs=-1,\n",
       "             param_grid={'rf__max_depth': [None, 12],\n",
       "                         'rf__min_samples_leaf': [1, 5],\n",
       "                         'rf__n_estimators': [90, 100, 110]},\n",
       "             scoring='neg_mean_absolute_percentage_error', verbose=2)</pre></div></div></div><div class=\"sk-parallel\"><div class=\"sk-parallel-item\"><div class=\"sk-item\"><div class=\"sk-serial\"><div class=\"sk-item\"><div class=\"sk-serial\"><div class=\"sk-item sk-dashed-wrapped\"><div class=\"sk-label-container\"><div class=\"sk-label sk-toggleable\"><input class=\"sk-toggleable__control sk-hidden--visually\" id=\"28b2d594-dac3-424d-873d-75e32eb96fff\" type=\"checkbox\" ><label class=\"sk-toggleable__label\" for=\"28b2d594-dac3-424d-873d-75e32eb96fff\">adv_preproc: ColumnTransformer</label><div class=\"sk-toggleable__content\"><pre>ColumnTransformer(transformers=[('num_transf', RobustScaler(),\n",
       "                                 Index(['duration_min', 'budget', 'number_of_awards_won',\n",
       "       'number_of_nominations', 'has_collection', 'number_of_top_productions'],\n",
       "      dtype='object')),\n",
       "                                ('cat_transf',\n",
       "                                 OneHotEncoder(handle_unknown='ignore',\n",
       "                                               sparse=False),\n",
       "                                 ['original_language', 'status',\n",
       "                                  'available_in_english']),\n",
       "                                ('date_transf',\n",
       "                                 Pipeline(steps=[('timeft',\n",
       "                                                  TimeFeaturesExtractor())]),\n",
       "                                 ['release_date']),\n",
       "                                ('customgandc_transf',\n",
       "                                 CustomGenreAndCountryEncoder(),\n",
       "                                 ['all_genres', 'top_countries'])])</pre></div></div></div><div class=\"sk-parallel\"><div class=\"sk-parallel-item\"><div class=\"sk-item\"><div class=\"sk-label-container\"><div class=\"sk-label sk-toggleable\"><input class=\"sk-toggleable__control sk-hidden--visually\" id=\"9fb2e55e-5148-42fd-9359-433b91cbbf23\" type=\"checkbox\" ><label class=\"sk-toggleable__label\" for=\"9fb2e55e-5148-42fd-9359-433b91cbbf23\">num_transf</label><div class=\"sk-toggleable__content\"><pre>Index(['duration_min', 'budget', 'number_of_awards_won',\n",
       "       'number_of_nominations', 'has_collection', 'number_of_top_productions'],\n",
       "      dtype='object')</pre></div></div></div><div class=\"sk-serial\"><div class=\"sk-item\"><div class=\"sk-estimator sk-toggleable\"><input class=\"sk-toggleable__control sk-hidden--visually\" id=\"0ffdccfa-f0e7-4a21-b40c-83d6fb62de2c\" type=\"checkbox\" ><label class=\"sk-toggleable__label\" for=\"0ffdccfa-f0e7-4a21-b40c-83d6fb62de2c\">RobustScaler</label><div class=\"sk-toggleable__content\"><pre>RobustScaler()</pre></div></div></div></div></div></div><div class=\"sk-parallel-item\"><div class=\"sk-item\"><div class=\"sk-label-container\"><div class=\"sk-label sk-toggleable\"><input class=\"sk-toggleable__control sk-hidden--visually\" id=\"9a9b6a61-4598-4817-b142-4e8cd8c21d80\" type=\"checkbox\" ><label class=\"sk-toggleable__label\" for=\"9a9b6a61-4598-4817-b142-4e8cd8c21d80\">cat_transf</label><div class=\"sk-toggleable__content\"><pre>['original_language', 'status', 'available_in_english']</pre></div></div></div><div class=\"sk-serial\"><div class=\"sk-item\"><div class=\"sk-estimator sk-toggleable\"><input class=\"sk-toggleable__control sk-hidden--visually\" id=\"ac8f13e4-98a0-4c52-8aef-ed13064a99f5\" type=\"checkbox\" ><label class=\"sk-toggleable__label\" for=\"ac8f13e4-98a0-4c52-8aef-ed13064a99f5\">OneHotEncoder</label><div class=\"sk-toggleable__content\"><pre>OneHotEncoder(handle_unknown='ignore', sparse=False)</pre></div></div></div></div></div></div><div class=\"sk-parallel-item\"><div class=\"sk-item\"><div class=\"sk-label-container\"><div class=\"sk-label sk-toggleable\"><input class=\"sk-toggleable__control sk-hidden--visually\" id=\"de4490b6-be14-4ca8-ae1f-acb6599711ea\" type=\"checkbox\" ><label class=\"sk-toggleable__label\" for=\"de4490b6-be14-4ca8-ae1f-acb6599711ea\">date_transf</label><div class=\"sk-toggleable__content\"><pre>['release_date']</pre></div></div></div><div class=\"sk-serial\"><div class=\"sk-item\"><div class=\"sk-serial\"><div class=\"sk-item\"><div class=\"sk-estimator sk-toggleable\"><input class=\"sk-toggleable__control sk-hidden--visually\" id=\"72607807-cb0b-492e-8dfd-89ebe497b657\" type=\"checkbox\" ><label class=\"sk-toggleable__label\" for=\"72607807-cb0b-492e-8dfd-89ebe497b657\">TimeFeaturesExtractor</label><div class=\"sk-toggleable__content\"><pre>TimeFeaturesExtractor()</pre></div></div></div></div></div></div></div></div><div class=\"sk-parallel-item\"><div class=\"sk-item\"><div class=\"sk-label-container\"><div class=\"sk-label sk-toggleable\"><input class=\"sk-toggleable__control sk-hidden--visually\" id=\"050bac29-477d-4707-9fb9-218e71273167\" type=\"checkbox\" ><label class=\"sk-toggleable__label\" for=\"050bac29-477d-4707-9fb9-218e71273167\">customgandc_transf</label><div class=\"sk-toggleable__content\"><pre>['all_genres', 'top_countries']</pre></div></div></div><div class=\"sk-serial\"><div class=\"sk-item\"><div class=\"sk-estimator sk-toggleable\"><input class=\"sk-toggleable__control sk-hidden--visually\" id=\"a8293325-7725-4647-8b3e-4065578c2b6b\" type=\"checkbox\" ><label class=\"sk-toggleable__label\" for=\"a8293325-7725-4647-8b3e-4065578c2b6b\">CustomGenreAndCountryEncoder</label><div class=\"sk-toggleable__content\"><pre>CustomGenreAndCountryEncoder()</pre></div></div></div></div></div></div></div></div><div class=\"sk-item\"><div class=\"sk-estimator sk-toggleable\"><input class=\"sk-toggleable__control sk-hidden--visually\" id=\"239ed4da-fad6-475b-8d17-ad813d0a3a0c\" type=\"checkbox\" ><label class=\"sk-toggleable__label\" for=\"239ed4da-fad6-475b-8d17-ad813d0a3a0c\">RandomForestRegressor</label><div class=\"sk-toggleable__content\"><pre>RandomForestRegressor()</pre></div></div></div></div></div></div></div></div></div></div></div></div>"
      ],
      "text/plain": [
       "GridSearchCV(cv=5,\n",
       "             estimator=Pipeline(steps=[('adv_preproc',\n",
       "                                        ColumnTransformer(transformers=[('num_transf',\n",
       "                                                                         RobustScaler(),\n",
       "                                                                         Index(['duration_min', 'budget', 'number_of_awards_won',\n",
       "       'number_of_nominations', 'has_collection', 'number_of_top_productions'],\n",
       "      dtype='object')),\n",
       "                                                                        ('cat_transf',\n",
       "                                                                         OneHotEncoder(handle_unknown='ignore',\n",
       "                                                                                       sparse=False),\n",
       "                                                                         ['original_language',\n",
       "                                                                          's...\n",
       "                                                                         Pipeline(steps=[('timeft',\n",
       "                                                                                          TimeFeaturesExtractor())]),\n",
       "                                                                         ['release_date']),\n",
       "                                                                        ('customgandc_transf',\n",
       "                                                                         CustomGenreAndCountryEncoder(),\n",
       "                                                                         ['all_genres',\n",
       "                                                                          'top_countries'])])),\n",
       "                                       ('rf', RandomForestRegressor())]),\n",
       "             n_jobs=-1,\n",
       "             param_grid={'rf__max_depth': [None, 12],\n",
       "                         'rf__min_samples_leaf': [1, 5],\n",
       "                         'rf__n_estimators': [90, 100, 110]},\n",
       "             scoring='neg_mean_absolute_percentage_error', verbose=2)"
      ]
     },
     "execution_count": 52,
     "metadata": {},
     "output_type": "execute_result"
    }
   ],
   "source": [
    "from sklearn.model_selection import GridSearchCV\n",
    "\n",
    "params = {'rf__n_estimators' : [90, 100, 110],\n",
    "         'rf__max_depth' : [None, 12],\n",
    "         'rf__min_samples_leaf' : [1, 5]}\n",
    "\n",
    "search = GridSearchCV(final_pipeline, params, scoring = scoring, cv = 5, n_jobs = -1, verbose = 2)\n",
    "\n",
    "search.fit(X,y)"
   ]
  },
  {
   "cell_type": "code",
   "execution_count": 53,
   "metadata": {},
   "outputs": [
    {
     "data": {
      "text/plain": [
       "array([-0.69744509, -0.69637259, -0.69208702, -0.68090334, -0.68209681,\n",
       "       -0.67994104, -0.71115457, -0.70677035, -0.70774316, -0.68788911,\n",
       "       -0.69029349, -0.68853422])"
      ]
     },
     "execution_count": 53,
     "metadata": {},
     "output_type": "execute_result"
    }
   ],
   "source": [
    "best_scores = search.cv_results_['mean_test_score']\n",
    "\n",
    "best_scores"
   ]
  },
  {
   "cell_type": "code",
   "execution_count": 54,
   "metadata": {},
   "outputs": [
    {
     "data": {
      "text/plain": [
       "{'rf__max_depth': None, 'rf__min_samples_leaf': 5, 'rf__n_estimators': 110}"
      ]
     },
     "execution_count": 54,
     "metadata": {},
     "output_type": "execute_result"
    }
   ],
   "source": [
    "search.best_params_"
   ]
  },
  {
   "cell_type": "markdown",
   "metadata": {},
   "source": [
    "**📝 Re-train your best pipeline on the whole (X,y) dataset**\n",
    "- Store the trained pipeline inside the `best_pipeline` variable"
   ]
  },
  {
   "cell_type": "code",
   "execution_count": 55,
   "metadata": {},
   "outputs": [],
   "source": [
    "best_pipeline = search.best_estimator_"
   ]
  },
  {
   "cell_type": "code",
   "execution_count": 56,
   "metadata": {
    "ExecuteTime": {
     "end_time": "2021-06-29T17:30:18.200730Z",
     "start_time": "2021-06-29T17:30:14.992877Z"
    },
    "tags": [
     "challengify"
    ]
   },
   "outputs": [
    {
     "data": {
      "text/html": [
       "<style>#sk-0e441028-d8f0-4fbb-a6e9-088bed6ae75b {color: black;background-color: white;}#sk-0e441028-d8f0-4fbb-a6e9-088bed6ae75b pre{padding: 0;}#sk-0e441028-d8f0-4fbb-a6e9-088bed6ae75b div.sk-toggleable {background-color: white;}#sk-0e441028-d8f0-4fbb-a6e9-088bed6ae75b label.sk-toggleable__label {cursor: pointer;display: block;width: 100%;margin-bottom: 0;padding: 0.2em 0.3em;box-sizing: border-box;text-align: center;}#sk-0e441028-d8f0-4fbb-a6e9-088bed6ae75b div.sk-toggleable__content {max-height: 0;max-width: 0;overflow: hidden;text-align: left;background-color: #f0f8ff;}#sk-0e441028-d8f0-4fbb-a6e9-088bed6ae75b div.sk-toggleable__content pre {margin: 0.2em;color: black;border-radius: 0.25em;background-color: #f0f8ff;}#sk-0e441028-d8f0-4fbb-a6e9-088bed6ae75b input.sk-toggleable__control:checked~div.sk-toggleable__content {max-height: 200px;max-width: 100%;overflow: auto;}#sk-0e441028-d8f0-4fbb-a6e9-088bed6ae75b div.sk-estimator input.sk-toggleable__control:checked~label.sk-toggleable__label {background-color: #d4ebff;}#sk-0e441028-d8f0-4fbb-a6e9-088bed6ae75b div.sk-label input.sk-toggleable__control:checked~label.sk-toggleable__label {background-color: #d4ebff;}#sk-0e441028-d8f0-4fbb-a6e9-088bed6ae75b input.sk-hidden--visually {border: 0;clip: rect(1px 1px 1px 1px);clip: rect(1px, 1px, 1px, 1px);height: 1px;margin: -1px;overflow: hidden;padding: 0;position: absolute;width: 1px;}#sk-0e441028-d8f0-4fbb-a6e9-088bed6ae75b div.sk-estimator {font-family: monospace;background-color: #f0f8ff;margin: 0.25em 0.25em;border: 1px dotted black;border-radius: 0.25em;box-sizing: border-box;}#sk-0e441028-d8f0-4fbb-a6e9-088bed6ae75b div.sk-estimator:hover {background-color: #d4ebff;}#sk-0e441028-d8f0-4fbb-a6e9-088bed6ae75b div.sk-parallel-item::after {content: \"\";width: 100%;border-bottom: 1px solid gray;flex-grow: 1;}#sk-0e441028-d8f0-4fbb-a6e9-088bed6ae75b div.sk-label:hover label.sk-toggleable__label {background-color: #d4ebff;}#sk-0e441028-d8f0-4fbb-a6e9-088bed6ae75b div.sk-serial::before {content: \"\";position: absolute;border-left: 1px solid gray;box-sizing: border-box;top: 2em;bottom: 0;left: 50%;}#sk-0e441028-d8f0-4fbb-a6e9-088bed6ae75b div.sk-serial {display: flex;flex-direction: column;align-items: center;background-color: white;}#sk-0e441028-d8f0-4fbb-a6e9-088bed6ae75b div.sk-item {z-index: 1;}#sk-0e441028-d8f0-4fbb-a6e9-088bed6ae75b div.sk-parallel {display: flex;align-items: stretch;justify-content: center;background-color: white;}#sk-0e441028-d8f0-4fbb-a6e9-088bed6ae75b div.sk-parallel-item {display: flex;flex-direction: column;position: relative;background-color: white;}#sk-0e441028-d8f0-4fbb-a6e9-088bed6ae75b div.sk-parallel-item:first-child::after {align-self: flex-end;width: 50%;}#sk-0e441028-d8f0-4fbb-a6e9-088bed6ae75b div.sk-parallel-item:last-child::after {align-self: flex-start;width: 50%;}#sk-0e441028-d8f0-4fbb-a6e9-088bed6ae75b div.sk-parallel-item:only-child::after {width: 0;}#sk-0e441028-d8f0-4fbb-a6e9-088bed6ae75b div.sk-dashed-wrapped {border: 1px dashed gray;margin: 0.2em;box-sizing: border-box;padding-bottom: 0.1em;background-color: white;position: relative;}#sk-0e441028-d8f0-4fbb-a6e9-088bed6ae75b div.sk-label label {font-family: monospace;font-weight: bold;background-color: white;display: inline-block;line-height: 1.2em;}#sk-0e441028-d8f0-4fbb-a6e9-088bed6ae75b div.sk-label-container {position: relative;z-index: 2;text-align: center;}#sk-0e441028-d8f0-4fbb-a6e9-088bed6ae75b div.sk-container {display: inline-block;position: relative;}</style><div id=\"sk-0e441028-d8f0-4fbb-a6e9-088bed6ae75b\" class\"sk-top-container\"><div class=\"sk-container\"><div class=\"sk-item sk-dashed-wrapped\"><div class=\"sk-label-container\"><div class=\"sk-label sk-toggleable\"><input class=\"sk-toggleable__control sk-hidden--visually\" id=\"31a94306-66e4-45eb-935b-4463f26e3547\" type=\"checkbox\" ><label class=\"sk-toggleable__label\" for=\"31a94306-66e4-45eb-935b-4463f26e3547\">Pipeline</label><div class=\"sk-toggleable__content\"><pre>Pipeline(steps=[('adv_preproc',\n",
       "                 ColumnTransformer(transformers=[('num_transf', RobustScaler(),\n",
       "                                                  Index(['duration_min', 'budget', 'number_of_awards_won',\n",
       "       'number_of_nominations', 'has_collection', 'number_of_top_productions'],\n",
       "      dtype='object')),\n",
       "                                                 ('cat_transf',\n",
       "                                                  OneHotEncoder(handle_unknown='ignore',\n",
       "                                                                sparse=False),\n",
       "                                                  ['original_language',\n",
       "                                                   'status',\n",
       "                                                   'available_in_english']),\n",
       "                                                 ('date_transf',\n",
       "                                                  Pipeline(steps=[('timeft',\n",
       "                                                                   TimeFeaturesExtractor())]),\n",
       "                                                  ['release_date']),\n",
       "                                                 ('customgandc_transf',\n",
       "                                                  CustomGenreAndCountryEncoder(),\n",
       "                                                  ['all_genres',\n",
       "                                                   'top_countries'])])),\n",
       "                ('rf',\n",
       "                 RandomForestRegressor(min_samples_leaf=5, n_estimators=110))])</pre></div></div></div><div class=\"sk-serial\"><div class=\"sk-item sk-dashed-wrapped\"><div class=\"sk-label-container\"><div class=\"sk-label sk-toggleable\"><input class=\"sk-toggleable__control sk-hidden--visually\" id=\"cfcaacea-ebbf-4fc6-88c7-0e94fc680a5a\" type=\"checkbox\" ><label class=\"sk-toggleable__label\" for=\"cfcaacea-ebbf-4fc6-88c7-0e94fc680a5a\">adv_preproc: ColumnTransformer</label><div class=\"sk-toggleable__content\"><pre>ColumnTransformer(transformers=[('num_transf', RobustScaler(),\n",
       "                                 Index(['duration_min', 'budget', 'number_of_awards_won',\n",
       "       'number_of_nominations', 'has_collection', 'number_of_top_productions'],\n",
       "      dtype='object')),\n",
       "                                ('cat_transf',\n",
       "                                 OneHotEncoder(handle_unknown='ignore',\n",
       "                                               sparse=False),\n",
       "                                 ['original_language', 'status',\n",
       "                                  'available_in_english']),\n",
       "                                ('date_transf',\n",
       "                                 Pipeline(steps=[('timeft',\n",
       "                                                  TimeFeaturesExtractor())]),\n",
       "                                 ['release_date']),\n",
       "                                ('customgandc_transf',\n",
       "                                 CustomGenreAndCountryEncoder(),\n",
       "                                 ['all_genres', 'top_countries'])])</pre></div></div></div><div class=\"sk-parallel\"><div class=\"sk-parallel-item\"><div class=\"sk-item\"><div class=\"sk-label-container\"><div class=\"sk-label sk-toggleable\"><input class=\"sk-toggleable__control sk-hidden--visually\" id=\"04cad897-5ed5-4e37-abe1-1d75ab87c995\" type=\"checkbox\" ><label class=\"sk-toggleable__label\" for=\"04cad897-5ed5-4e37-abe1-1d75ab87c995\">num_transf</label><div class=\"sk-toggleable__content\"><pre>Index(['duration_min', 'budget', 'number_of_awards_won',\n",
       "       'number_of_nominations', 'has_collection', 'number_of_top_productions'],\n",
       "      dtype='object')</pre></div></div></div><div class=\"sk-serial\"><div class=\"sk-item\"><div class=\"sk-estimator sk-toggleable\"><input class=\"sk-toggleable__control sk-hidden--visually\" id=\"825b37d3-f886-4936-aa30-4002c57960b2\" type=\"checkbox\" ><label class=\"sk-toggleable__label\" for=\"825b37d3-f886-4936-aa30-4002c57960b2\">RobustScaler</label><div class=\"sk-toggleable__content\"><pre>RobustScaler()</pre></div></div></div></div></div></div><div class=\"sk-parallel-item\"><div class=\"sk-item\"><div class=\"sk-label-container\"><div class=\"sk-label sk-toggleable\"><input class=\"sk-toggleable__control sk-hidden--visually\" id=\"f0eaff7e-7188-421d-91c3-612000f4efa0\" type=\"checkbox\" ><label class=\"sk-toggleable__label\" for=\"f0eaff7e-7188-421d-91c3-612000f4efa0\">cat_transf</label><div class=\"sk-toggleable__content\"><pre>['original_language', 'status', 'available_in_english']</pre></div></div></div><div class=\"sk-serial\"><div class=\"sk-item\"><div class=\"sk-estimator sk-toggleable\"><input class=\"sk-toggleable__control sk-hidden--visually\" id=\"2e9a235d-c94e-42f3-9f6d-e9c42e8856fe\" type=\"checkbox\" ><label class=\"sk-toggleable__label\" for=\"2e9a235d-c94e-42f3-9f6d-e9c42e8856fe\">OneHotEncoder</label><div class=\"sk-toggleable__content\"><pre>OneHotEncoder(handle_unknown='ignore', sparse=False)</pre></div></div></div></div></div></div><div class=\"sk-parallel-item\"><div class=\"sk-item\"><div class=\"sk-label-container\"><div class=\"sk-label sk-toggleable\"><input class=\"sk-toggleable__control sk-hidden--visually\" id=\"820efe4a-a06f-4d1e-bf4b-97e64d0b9c30\" type=\"checkbox\" ><label class=\"sk-toggleable__label\" for=\"820efe4a-a06f-4d1e-bf4b-97e64d0b9c30\">date_transf</label><div class=\"sk-toggleable__content\"><pre>['release_date']</pre></div></div></div><div class=\"sk-serial\"><div class=\"sk-item\"><div class=\"sk-serial\"><div class=\"sk-item\"><div class=\"sk-estimator sk-toggleable\"><input class=\"sk-toggleable__control sk-hidden--visually\" id=\"858edd24-7e06-46c7-aedc-ec26fe0654e5\" type=\"checkbox\" ><label class=\"sk-toggleable__label\" for=\"858edd24-7e06-46c7-aedc-ec26fe0654e5\">TimeFeaturesExtractor</label><div class=\"sk-toggleable__content\"><pre>TimeFeaturesExtractor()</pre></div></div></div></div></div></div></div></div><div class=\"sk-parallel-item\"><div class=\"sk-item\"><div class=\"sk-label-container\"><div class=\"sk-label sk-toggleable\"><input class=\"sk-toggleable__control sk-hidden--visually\" id=\"51fc109a-deb5-4803-b261-43ad7432a3f7\" type=\"checkbox\" ><label class=\"sk-toggleable__label\" for=\"51fc109a-deb5-4803-b261-43ad7432a3f7\">customgandc_transf</label><div class=\"sk-toggleable__content\"><pre>['all_genres', 'top_countries']</pre></div></div></div><div class=\"sk-serial\"><div class=\"sk-item\"><div class=\"sk-estimator sk-toggleable\"><input class=\"sk-toggleable__control sk-hidden--visually\" id=\"16dbd028-79f8-4489-98ea-64c3e21b9a7a\" type=\"checkbox\" ><label class=\"sk-toggleable__label\" for=\"16dbd028-79f8-4489-98ea-64c3e21b9a7a\">CustomGenreAndCountryEncoder</label><div class=\"sk-toggleable__content\"><pre>CustomGenreAndCountryEncoder()</pre></div></div></div></div></div></div></div></div><div class=\"sk-item\"><div class=\"sk-estimator sk-toggleable\"><input class=\"sk-toggleable__control sk-hidden--visually\" id=\"356ae1d4-cb5e-4660-aee5-c96f0a56338e\" type=\"checkbox\" ><label class=\"sk-toggleable__label\" for=\"356ae1d4-cb5e-4660-aee5-c96f0a56338e\">RandomForestRegressor</label><div class=\"sk-toggleable__content\"><pre>RandomForestRegressor(min_samples_leaf=5, n_estimators=110)</pre></div></div></div></div></div></div></div>"
      ],
      "text/plain": [
       "Pipeline(steps=[('adv_preproc',\n",
       "                 ColumnTransformer(transformers=[('num_transf', RobustScaler(),\n",
       "                                                  Index(['duration_min', 'budget', 'number_of_awards_won',\n",
       "       'number_of_nominations', 'has_collection', 'number_of_top_productions'],\n",
       "      dtype='object')),\n",
       "                                                 ('cat_transf',\n",
       "                                                  OneHotEncoder(handle_unknown='ignore',\n",
       "                                                                sparse=False),\n",
       "                                                  ['original_language',\n",
       "                                                   'status',\n",
       "                                                   'available_in_english']),\n",
       "                                                 ('date_transf',\n",
       "                                                  Pipeline(steps=[('timeft',\n",
       "                                                                   TimeFeaturesExtractor())]),\n",
       "                                                  ['release_date']),\n",
       "                                                 ('customgandc_transf',\n",
       "                                                  CustomGenreAndCountryEncoder(),\n",
       "                                                  ['all_genres',\n",
       "                                                   'top_countries'])])),\n",
       "                ('rf',\n",
       "                 RandomForestRegressor(min_samples_leaf=5, n_estimators=110))])"
      ]
     },
     "execution_count": 56,
     "metadata": {},
     "output_type": "execute_result"
    }
   ],
   "source": [
    "best_pipeline.fit(X,y)"
   ]
  },
  {
   "cell_type": "markdown",
   "metadata": {},
   "source": [
    "### Prediction\n",
    "\n",
    "Now you have your model tuned with the best hyperparameters, you are ready for a prediction.\n",
    "\n",
    "Here is a famous TV show released in 2017:\n",
    "\n",
    "```python\n",
    "dict(\n",
    "        original_title=str(\"La Casa de Papel\"),\n",
    "        title=str(\"Money Heist\"), \n",
    "        release_date= pd.to_datetime([\"2017-05-02\"]), \n",
    "        duration_min=float(50),\n",
    "        description=str(\"An unusual group of robbers attempt to carry out the most perfect robbery\"), \n",
    "        budget=float(3_000_000), \n",
    "        original_language =str(\"es\"), \n",
    "        status=str(\"Released\"),\n",
    "        number_of_awards_won =int(2), \n",
    "        number_of_nominations=int(5), \n",
    "        has_collection=int(1),\n",
    "        all_genres=str(\"Action, Crime, Mystery\"), \n",
    "        top_countries=str(\"Spain, France, United States of America\"), \n",
    "        number_of_top_productions=int('1'),\n",
    "        available_in_english=bool('True') \n",
    ")\n",
    "```\n",
    "\n",
    "**📝 Compute the predicted popularity of this TV show and store it into the `popularity` variable as a floating number.**"
   ]
  },
  {
   "cell_type": "code",
   "execution_count": 57,
   "metadata": {
    "ExecuteTime": {
     "end_time": "2021-06-29T17:30:18.209145Z",
     "start_time": "2021-06-29T17:30:18.202809Z"
    },
    "tags": [
     "challengify"
    ]
   },
   "outputs": [],
   "source": [
    "TVshow = dict(\n",
    "        original_title=str(\"La Casa de Papel\"),\n",
    "        title=str(\"Money Heist\"), \n",
    "        release_date= \"2017-05-02\", \n",
    "        duration_min=float(50),\n",
    "        description=str(\"An unusual group of robbers attempt to carry out the most perfect robbery\"), \n",
    "        budget=float(3_000_000), \n",
    "        original_language =str(\"es\"), \n",
    "        status=str(\"Released\"),\n",
    "        number_of_awards_won =int(2), \n",
    "        number_of_nominations=int(5), \n",
    "        has_collection=int(1),\n",
    "        all_genres=str(\"Action, Crime, Mystery\"), \n",
    "        top_countries=str(\"Spain, France, United States of America\"), \n",
    "        number_of_top_productions=int('1'),\n",
    "        available_in_english=bool('True') \n",
    ")"
   ]
  },
  {
   "cell_type": "code",
   "execution_count": 58,
   "metadata": {},
   "outputs": [
    {
     "name": "stdout",
     "output_type": "stream",
     "text": [
      "Fitting 5 folds for each of 12 candidates, totalling 60 fits\n"
     ]
    },
    {
     "data": {
      "text/html": [
       "<style>#sk-277e61a1-d089-46cc-8c1d-e779aec6565b {color: black;background-color: white;}#sk-277e61a1-d089-46cc-8c1d-e779aec6565b pre{padding: 0;}#sk-277e61a1-d089-46cc-8c1d-e779aec6565b div.sk-toggleable {background-color: white;}#sk-277e61a1-d089-46cc-8c1d-e779aec6565b label.sk-toggleable__label {cursor: pointer;display: block;width: 100%;margin-bottom: 0;padding: 0.2em 0.3em;box-sizing: border-box;text-align: center;}#sk-277e61a1-d089-46cc-8c1d-e779aec6565b div.sk-toggleable__content {max-height: 0;max-width: 0;overflow: hidden;text-align: left;background-color: #f0f8ff;}#sk-277e61a1-d089-46cc-8c1d-e779aec6565b div.sk-toggleable__content pre {margin: 0.2em;color: black;border-radius: 0.25em;background-color: #f0f8ff;}#sk-277e61a1-d089-46cc-8c1d-e779aec6565b input.sk-toggleable__control:checked~div.sk-toggleable__content {max-height: 200px;max-width: 100%;overflow: auto;}#sk-277e61a1-d089-46cc-8c1d-e779aec6565b div.sk-estimator input.sk-toggleable__control:checked~label.sk-toggleable__label {background-color: #d4ebff;}#sk-277e61a1-d089-46cc-8c1d-e779aec6565b div.sk-label input.sk-toggleable__control:checked~label.sk-toggleable__label {background-color: #d4ebff;}#sk-277e61a1-d089-46cc-8c1d-e779aec6565b input.sk-hidden--visually {border: 0;clip: rect(1px 1px 1px 1px);clip: rect(1px, 1px, 1px, 1px);height: 1px;margin: -1px;overflow: hidden;padding: 0;position: absolute;width: 1px;}#sk-277e61a1-d089-46cc-8c1d-e779aec6565b div.sk-estimator {font-family: monospace;background-color: #f0f8ff;margin: 0.25em 0.25em;border: 1px dotted black;border-radius: 0.25em;box-sizing: border-box;}#sk-277e61a1-d089-46cc-8c1d-e779aec6565b div.sk-estimator:hover {background-color: #d4ebff;}#sk-277e61a1-d089-46cc-8c1d-e779aec6565b div.sk-parallel-item::after {content: \"\";width: 100%;border-bottom: 1px solid gray;flex-grow: 1;}#sk-277e61a1-d089-46cc-8c1d-e779aec6565b div.sk-label:hover label.sk-toggleable__label {background-color: #d4ebff;}#sk-277e61a1-d089-46cc-8c1d-e779aec6565b div.sk-serial::before {content: \"\";position: absolute;border-left: 1px solid gray;box-sizing: border-box;top: 2em;bottom: 0;left: 50%;}#sk-277e61a1-d089-46cc-8c1d-e779aec6565b div.sk-serial {display: flex;flex-direction: column;align-items: center;background-color: white;}#sk-277e61a1-d089-46cc-8c1d-e779aec6565b div.sk-item {z-index: 1;}#sk-277e61a1-d089-46cc-8c1d-e779aec6565b div.sk-parallel {display: flex;align-items: stretch;justify-content: center;background-color: white;}#sk-277e61a1-d089-46cc-8c1d-e779aec6565b div.sk-parallel-item {display: flex;flex-direction: column;position: relative;background-color: white;}#sk-277e61a1-d089-46cc-8c1d-e779aec6565b div.sk-parallel-item:first-child::after {align-self: flex-end;width: 50%;}#sk-277e61a1-d089-46cc-8c1d-e779aec6565b div.sk-parallel-item:last-child::after {align-self: flex-start;width: 50%;}#sk-277e61a1-d089-46cc-8c1d-e779aec6565b div.sk-parallel-item:only-child::after {width: 0;}#sk-277e61a1-d089-46cc-8c1d-e779aec6565b div.sk-dashed-wrapped {border: 1px dashed gray;margin: 0.2em;box-sizing: border-box;padding-bottom: 0.1em;background-color: white;position: relative;}#sk-277e61a1-d089-46cc-8c1d-e779aec6565b div.sk-label label {font-family: monospace;font-weight: bold;background-color: white;display: inline-block;line-height: 1.2em;}#sk-277e61a1-d089-46cc-8c1d-e779aec6565b div.sk-label-container {position: relative;z-index: 2;text-align: center;}#sk-277e61a1-d089-46cc-8c1d-e779aec6565b div.sk-container {display: inline-block;position: relative;}</style><div id=\"sk-277e61a1-d089-46cc-8c1d-e779aec6565b\" class\"sk-top-container\"><div class=\"sk-container\"><div class=\"sk-item sk-dashed-wrapped\"><div class=\"sk-label-container\"><div class=\"sk-label sk-toggleable\"><input class=\"sk-toggleable__control sk-hidden--visually\" id=\"5521a321-1a62-4c2f-90bc-8a2f42cbefe9\" type=\"checkbox\" ><label class=\"sk-toggleable__label\" for=\"5521a321-1a62-4c2f-90bc-8a2f42cbefe9\">GridSearchCV</label><div class=\"sk-toggleable__content\"><pre>GridSearchCV(cv=5,\n",
       "             estimator=Pipeline(steps=[('adv_preproc_wt',\n",
       "                                        ColumnTransformer(transformers=[('num_transf',\n",
       "                                                                         RobustScaler(),\n",
       "                                                                         Index(['duration_min', 'budget', 'number_of_awards_won',\n",
       "       'number_of_nominations', 'has_collection', 'number_of_top_productions'],\n",
       "      dtype='object')),\n",
       "                                                                        ('cat_transf',\n",
       "                                                                         OneHotEncoder(handle_unknown='ignore',\n",
       "                                                                                       sparse=False),\n",
       "                                                                         ['original_language',\n",
       "                                                                          'status',\n",
       "                                                                          'available_in_english']),\n",
       "                                                                        ('customgandc_transf',\n",
       "                                                                         CustomGenreAndCountryEncoder(),\n",
       "                                                                         ['all_genres',\n",
       "                                                                          'top_countries'])])),\n",
       "                                       ('rf', RandomForestRegressor())]),\n",
       "             n_jobs=-1,\n",
       "             param_grid={'rf__max_depth': [None, 12],\n",
       "                         'rf__min_samples_leaf': [1, 5],\n",
       "                         'rf__n_estimators': [90, 100, 110]},\n",
       "             scoring='neg_mean_absolute_percentage_error', verbose=2)</pre></div></div></div><div class=\"sk-parallel\"><div class=\"sk-parallel-item\"><div class=\"sk-item\"><div class=\"sk-serial\"><div class=\"sk-item\"><div class=\"sk-serial\"><div class=\"sk-item sk-dashed-wrapped\"><div class=\"sk-label-container\"><div class=\"sk-label sk-toggleable\"><input class=\"sk-toggleable__control sk-hidden--visually\" id=\"e5cc21e6-bc5a-4ebc-ad15-dd76e5b75099\" type=\"checkbox\" ><label class=\"sk-toggleable__label\" for=\"e5cc21e6-bc5a-4ebc-ad15-dd76e5b75099\">adv_preproc_wt: ColumnTransformer</label><div class=\"sk-toggleable__content\"><pre>ColumnTransformer(transformers=[('num_transf', RobustScaler(),\n",
       "                                 Index(['duration_min', 'budget', 'number_of_awards_won',\n",
       "       'number_of_nominations', 'has_collection', 'number_of_top_productions'],\n",
       "      dtype='object')),\n",
       "                                ('cat_transf',\n",
       "                                 OneHotEncoder(handle_unknown='ignore',\n",
       "                                               sparse=False),\n",
       "                                 ['original_language', 'status',\n",
       "                                  'available_in_english']),\n",
       "                                ('customgandc_transf',\n",
       "                                 CustomGenreAndCountryEncoder(),\n",
       "                                 ['all_genres', 'top_countries'])])</pre></div></div></div><div class=\"sk-parallel\"><div class=\"sk-parallel-item\"><div class=\"sk-item\"><div class=\"sk-label-container\"><div class=\"sk-label sk-toggleable\"><input class=\"sk-toggleable__control sk-hidden--visually\" id=\"500f26db-cb6e-42da-b03d-0ce61211a44c\" type=\"checkbox\" ><label class=\"sk-toggleable__label\" for=\"500f26db-cb6e-42da-b03d-0ce61211a44c\">num_transf</label><div class=\"sk-toggleable__content\"><pre>Index(['duration_min', 'budget', 'number_of_awards_won',\n",
       "       'number_of_nominations', 'has_collection', 'number_of_top_productions'],\n",
       "      dtype='object')</pre></div></div></div><div class=\"sk-serial\"><div class=\"sk-item\"><div class=\"sk-estimator sk-toggleable\"><input class=\"sk-toggleable__control sk-hidden--visually\" id=\"ede16020-3b4c-4377-bc5a-3fd4f4cdbbe0\" type=\"checkbox\" ><label class=\"sk-toggleable__label\" for=\"ede16020-3b4c-4377-bc5a-3fd4f4cdbbe0\">RobustScaler</label><div class=\"sk-toggleable__content\"><pre>RobustScaler()</pre></div></div></div></div></div></div><div class=\"sk-parallel-item\"><div class=\"sk-item\"><div class=\"sk-label-container\"><div class=\"sk-label sk-toggleable\"><input class=\"sk-toggleable__control sk-hidden--visually\" id=\"9e493964-39cb-4347-b031-f91953d30374\" type=\"checkbox\" ><label class=\"sk-toggleable__label\" for=\"9e493964-39cb-4347-b031-f91953d30374\">cat_transf</label><div class=\"sk-toggleable__content\"><pre>['original_language', 'status', 'available_in_english']</pre></div></div></div><div class=\"sk-serial\"><div class=\"sk-item\"><div class=\"sk-estimator sk-toggleable\"><input class=\"sk-toggleable__control sk-hidden--visually\" id=\"8242413b-0f66-4b04-839a-81825dd15bd3\" type=\"checkbox\" ><label class=\"sk-toggleable__label\" for=\"8242413b-0f66-4b04-839a-81825dd15bd3\">OneHotEncoder</label><div class=\"sk-toggleable__content\"><pre>OneHotEncoder(handle_unknown='ignore', sparse=False)</pre></div></div></div></div></div></div><div class=\"sk-parallel-item\"><div class=\"sk-item\"><div class=\"sk-label-container\"><div class=\"sk-label sk-toggleable\"><input class=\"sk-toggleable__control sk-hidden--visually\" id=\"d653afbc-aabe-4b15-9fc6-53f71e318850\" type=\"checkbox\" ><label class=\"sk-toggleable__label\" for=\"d653afbc-aabe-4b15-9fc6-53f71e318850\">customgandc_transf</label><div class=\"sk-toggleable__content\"><pre>['all_genres', 'top_countries']</pre></div></div></div><div class=\"sk-serial\"><div class=\"sk-item\"><div class=\"sk-estimator sk-toggleable\"><input class=\"sk-toggleable__control sk-hidden--visually\" id=\"6d516dd9-8b4f-48b2-98bf-bb31ae502b53\" type=\"checkbox\" ><label class=\"sk-toggleable__label\" for=\"6d516dd9-8b4f-48b2-98bf-bb31ae502b53\">CustomGenreAndCountryEncoder</label><div class=\"sk-toggleable__content\"><pre>CustomGenreAndCountryEncoder()</pre></div></div></div></div></div></div></div></div><div class=\"sk-item\"><div class=\"sk-estimator sk-toggleable\"><input class=\"sk-toggleable__control sk-hidden--visually\" id=\"1c9d93d7-5c04-4ce5-999f-c1401a1b38ec\" type=\"checkbox\" ><label class=\"sk-toggleable__label\" for=\"1c9d93d7-5c04-4ce5-999f-c1401a1b38ec\">RandomForestRegressor</label><div class=\"sk-toggleable__content\"><pre>RandomForestRegressor()</pre></div></div></div></div></div></div></div></div></div></div></div></div>"
      ],
      "text/plain": [
       "GridSearchCV(cv=5,\n",
       "             estimator=Pipeline(steps=[('adv_preproc_wt',\n",
       "                                        ColumnTransformer(transformers=[('num_transf',\n",
       "                                                                         RobustScaler(),\n",
       "                                                                         Index(['duration_min', 'budget', 'number_of_awards_won',\n",
       "       'number_of_nominations', 'has_collection', 'number_of_top_productions'],\n",
       "      dtype='object')),\n",
       "                                                                        ('cat_transf',\n",
       "                                                                         OneHotEncoder(handle_unknown='ignore',\n",
       "                                                                                       sparse=False),\n",
       "                                                                         ['original_language',\n",
       "                                                                          'status',\n",
       "                                                                          'available_in_english']),\n",
       "                                                                        ('customgandc_transf',\n",
       "                                                                         CustomGenreAndCountryEncoder(),\n",
       "                                                                         ['all_genres',\n",
       "                                                                          'top_countries'])])),\n",
       "                                       ('rf', RandomForestRegressor())]),\n",
       "             n_jobs=-1,\n",
       "             param_grid={'rf__max_depth': [None, 12],\n",
       "                         'rf__min_samples_leaf': [1, 5],\n",
       "                         'rf__n_estimators': [90, 100, 110]},\n",
       "             scoring='neg_mean_absolute_percentage_error', verbose=2)"
      ]
     },
     "execution_count": 58,
     "metadata": {},
     "output_type": "execute_result"
    }
   ],
   "source": [
    "advanced_preproc_without_time = ColumnTransformer([\n",
    "    ('num_transf', RobustScaler(), numerical),\n",
    "    ('cat_transf', OneHotEncoder(sparse = False, handle_unknown='ignore'), ['original_language', 'status', 'available_in_english']),\n",
    "    ('customgandc_transf', CustomGenreAndCountryEncoder(), ['all_genres', 'top_countries'])\n",
    "], remainder = 'drop')\n",
    "\n",
    "\n",
    "pipe_without_time = Pipeline([\n",
    "    ('adv_preproc_wt', advanced_preproc_without_time),\n",
    "    ('rf', RandomForestRegressor())\n",
    "])\n",
    "\n",
    "search2 = GridSearchCV(pipe_without_time, params, scoring = scoring, cv = 5, n_jobs = -1, verbose = 2)\n",
    "\n",
    "search2.fit(X,y)"
   ]
  },
  {
   "cell_type": "code",
   "execution_count": 59,
   "metadata": {},
   "outputs": [],
   "source": [
    "best_pipeline2 = search2.best_estimator_"
   ]
  },
  {
   "cell_type": "code",
   "execution_count": 60,
   "metadata": {
    "ExecuteTime": {
     "end_time": "2021-06-29T17:30:18.293267Z",
     "start_time": "2021-06-29T17:30:18.211979Z"
    },
    "tags": [
     "challengify"
    ]
   },
   "outputs": [
    {
     "data": {
      "text/plain": [
       "array([11.8452116])"
      ]
     },
     "execution_count": 60,
     "metadata": {},
     "output_type": "execute_result"
    }
   ],
   "source": [
    "new_pred = pd.DataFrame(TVshow, index=[0])\n",
    "best_pipeline2.predict(new_pred)"
   ]
  },
  {
   "cell_type": "code",
   "execution_count": 64,
   "metadata": {},
   "outputs": [],
   "source": [
    "popularity = best_pipeline2.predict(new_pred)[0]"
   ]
  },
  {
   "cell_type": "markdown",
   "metadata": {},
   "source": [
    "### 🧪 Save your results\n",
    "\n",
    "Run the following cell to save your results."
   ]
  },
  {
   "cell_type": "code",
   "execution_count": 65,
   "metadata": {
    "ExecuteTime": {
     "end_time": "2021-06-29T17:30:18.492068Z",
     "start_time": "2021-06-29T17:30:18.294946Z"
    }
   },
   "outputs": [],
   "source": [
    "ChallengeResult(\n",
    "    \"model_tuning\",\n",
    "    search=search,\n",
    "    best_pipeline=best_pipeline,\n",
    "    best_scores = best_scores,\n",
    "    popularity=popularity\n",
    ").write()"
   ]
  },
  {
   "cell_type": "markdown",
   "metadata": {},
   "source": [
    "## API \n",
    "\n",
    "Time to put a pipeline in production!\n",
    "\n",
    "👉 Go to https://github.com/lewagon/data-certification-api and follow instructions\n",
    "\n",
    "**This final part is independent from the above notebook**"
   ]
  }
 ],
 "metadata": {
  "interpreter": {
   "hash": "572b4e543617d03e90ecaf525e08695da1ff29b13594f787e33b342cf572f792"
  },
  "kernelspec": {
   "display_name": "Python 3",
   "language": "python",
   "name": "python3"
  },
  "language_info": {
   "codemirror_mode": {
    "name": "ipython",
    "version": 3
   },
   "file_extension": ".py",
   "mimetype": "text/x-python",
   "name": "python",
   "nbconvert_exporter": "python",
   "pygments_lexer": "ipython3",
   "version": "3.8.6"
  },
  "toc": {
   "base_numbering": 1,
   "nav_menu": {},
   "number_sections": true,
   "sideBar": true,
   "skip_h1_title": true,
   "title_cell": "Table of Contents",
   "title_sidebar": "Contents",
   "toc_cell": false,
   "toc_position": {
    "height": "calc(100% - 180px)",
    "left": "10px",
    "top": "150px",
    "width": "242px"
   },
   "toc_section_display": true,
   "toc_window_display": true
  },
  "varInspector": {
   "cols": {
    "lenName": 16,
    "lenType": 16,
    "lenVar": 40
   },
   "kernels_config": {
    "python": {
     "delete_cmd_postfix": "",
     "delete_cmd_prefix": "del ",
     "library": "var_list.py",
     "varRefreshCmd": "print(var_dic_list())"
    },
    "r": {
     "delete_cmd_postfix": ") ",
     "delete_cmd_prefix": "rm(",
     "library": "var_list.r",
     "varRefreshCmd": "cat(var_dic_list()) "
    }
   },
   "types_to_exclude": [
    "module",
    "function",
    "builtin_function_or_method",
    "instance",
    "_Feature"
   ],
   "window_display": false
  }
 },
 "nbformat": 4,
 "nbformat_minor": 4
}
